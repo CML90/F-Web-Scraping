{
 "cells": [
  {
   "cell_type": "code",
   "execution_count": null,
   "metadata": {
    "dotnet_interactive": {
     "language": "fsharp"
    },
    "polyglot_notebook": {
     "kernelName": "fsharp"
    },
    "vscode": {
     "languageId": "polyglot-notebook"
    }
   },
   "outputs": [],
   "source": [
    "//Web scraper for NFT Round 2 data\n",
    "open System\n",
    "open System.Collections.Generic\n",
    "open System.Net.Http\n",
    "open System.Text\n",
    "open System.Text.Json\n",
    "open System.Threading.Tasks\n",
    "open System.IO\n",
    "\n",
    "let nftRound2Data = List<_>()\n",
    "\n",
    "module WebScraper =\n",
    "\n",
    "    let Scraper (key) : Task =\n",
    "        async {\n",
    "            //get the url of the POST request, specifying which data we want scraped\n",
    "            let url = \"https://cnft.tools/toolsapi/v3/project/teddybearclub2\"\n",
    "            //make HTTP requests\n",
    "            use client = new HttpClient()\n",
    "\n",
    "            // Headers - mimics a request from  web browser, so its less obvious that its a scraper\n",
    "            client.DefaultRequestHeaders.Add(\"User-Agent\", \"Mozilla/5.0 (Macintosh; Intel Mac OS X 10_15_7)\")\n",
    "            \n",
    "            // Base payload - copy the paylod from the Networks tab - F# record\n",
    "            let payloadTemplate = \n",
    "                {|\n",
    "                    project = \"none\"\n",
    "                    sort = \"asc\"\n",
    "                    method = \"rarity\"\n",
    "                    page = 1\n",
    "                    priceOnly = \"all\"\n",
    "                    filters = {| |}\n",
    "                    sliders = \n",
    "                        {| \n",
    "                            minPrice = 0\n",
    "                            maxPrice = 0\n",
    "                            minRank = 0\n",
    "                            maxRank = 0 \n",
    "                        |}\n",
    "                    instantSale = false\n",
    "                    walletCheck = false\n",
    "                    stakes = []\n",
    "                    pageSize = 50\n",
    "                |}\n",
    "\n",
    "            let totalPages = 41\n",
    "            let delayInMilliseconds = 1000\n",
    "\n",
    "            for page in 1 .. totalPages do\n",
    "                printf \"Fetching page %d...\" page\n",
    "                // Update the page number in the payload - for pagination\n",
    "                //page increments automatically\n",
    "                let payload = \n",
    "                    {| payloadTemplate with \n",
    "                        page = page\n",
    "                    |}\n",
    "\n",
    "                //from F# record serialize to JSON and then \n",
    "                let jsonPayload = JsonSerializer.Serialize(payload)\n",
    "                //new HTTP content object saying we are sending json\n",
    "                let content = new StringContent(jsonPayload, Encoding.UTF8, \"application/json\")\n",
    "\n",
    "                try\n",
    "                    // Send the POST request, async F# syntax \n",
    "                    let! response = client.PostAsync(url, content) |> Async.AwaitTask\n",
    "                    if response.IsSuccessStatusCode then\n",
    "                        let! responseString = response.Content.ReadAsStringAsync() |> Async.AwaitTask\n",
    "\n",
    "                        let jsonResponse = JsonSerializer.Deserialize<Dictionary<string, obj>>(responseString)\n",
    "\n",
    "                        // :? casts result to JsonElement\n",
    "                        match jsonResponse.TryGetValue(key) with\n",
    "                        | true, results -> \n",
    "                            let resultsJson = results :?> JsonElement\n",
    "                            if resultsJson.ValueKind = JsonValueKind.Array then\n",
    "                                for element in resultsJson.EnumerateArray() do\n",
    "                                    nftRound2Data.Add(element) // Add each element individually\n",
    "                            else\n",
    "                                printfn $\"Unexpected data format for {key}\"\n",
    "                        | _ -> ()\n",
    "\n",
    "                    else\n",
    "                        printfn \"Failed to fetch page %d. Status code: %A\" page response.StatusCode\n",
    "                        return()\n",
    "                with\n",
    "                    | ex -> \n",
    "                        printfn \"Error on page %d: %s\" page ex.Message\n",
    "                        return()\n",
    "\n",
    "                do! Async.Sleep(delayInMilliseconds)\n",
    "\n",
    "            printf \"Data scraping complete\" \n",
    "        } |> Async.StartAsTask :> Task\n",
    "\n",
    "WebScraper.Scraper(\"stats\")"
   ]
  },
  {
   "cell_type": "code",
   "execution_count": null,
   "metadata": {
    "dotnet_interactive": {
     "language": "fsharp"
    },
    "polyglot_notebook": {
     "kernelName": "fsharp"
    },
    "vscode": {
     "languageId": "polyglot-notebook"
    }
   },
   "outputs": [],
   "source": [
    "//Will take a bit of time for the 10 elements to fill up - around 20 secs\n",
    "let firstTen = nftRound2Data |> Seq.take 10 |> Seq.toList\n",
    "printfn \"%A\" firstTen"
   ]
  },
  {
   "cell_type": "markdown",
   "metadata": {},
   "source": [
    "To calculate the points for each trait, we first divide the number of occurrences of that trait by the total number of NFTs in the round, which gives us the percentage of NFTs that have that trait. We then subtract this percentage from 100, creating a direct relationship between rarity and points so rarer traits get higher points. Finally, we sum the points for each trait across different attributes (such as Background, Bear, Clothes, etc.) to calculate the final rarity score for each NFT."
   ]
  },
  {
   "cell_type": "code",
   "execution_count": 115,
   "metadata": {
    "dotnet_interactive": {
     "language": "fsharp"
    },
    "polyglot_notebook": {
     "kernelName": "fsharp"
    },
    "vscode": {
     "languageId": "polyglot-notebook"
    }
   },
   "outputs": [],
   "source": [
    "//Getting the information regarding trait counts\n",
    "open System.Text.Json\n",
    "\n",
    "type NFTTraits = {\n",
    "    Background: Map<string, int>\n",
    "    Bear: Map<string, int>\n",
    "    Clothes: Map<string, int>\n",
    "    Face: Map<string, int>\n",
    "    Handheld: Map<string, int>\n",
    "    Head: Map<string, int>\n",
    "    Skins: Map<string, int>\n",
    "    TraitCount: Map<string, int>\n",
    "}\n",
    "\n",
    "let loadNFTs<'T> (filePath: string) : 'T =\n",
    "    let jsonContent = File.ReadAllText(filePath)\n",
    "    JsonSerializer.Deserialize<'T>(jsonContent)\n",
    "    \n",
    "let nftRound1Data = loadNFTs<NFTTraits list> \"./JsonScraper/NFT1Traits.json\"\n",
    "let nftRound2Data = loadNFTs<NFTTraits list> \"./JsonScraper/NFT2Traits.json\"\n",
    "let nftRound1Traits = List.head nftRound1Data\n",
    "let nftRound2Traits = List.head nftRound2Data\n"
   ]
  },
  {
   "cell_type": "code",
   "execution_count": null,
   "metadata": {
    "dotnet_interactive": {
     "language": "fsharp"
    },
    "polyglot_notebook": {
     "kernelName": "fsharp"
    },
    "vscode": {
     "languageId": "polyglot-notebook"
    }
   },
   "outputs": [],
   "source": [
    "//Score NFT Round 1 and 2 Traits\n",
    "open FSharp.Reflection\n",
    "let r1TotalNfts = 804.0\n",
    "let r2TotalNfts = 2035.0\n",
    "\n",
    "let processNFTTraits (nftTraits: NFTTraits) totalNfts =\n",
    "    // Use FSharp.Reflection to get all the fields in the record dynamically\n",
    "    let recordType = typeof<NFTTraits>\n",
    "    FSharp.Reflection.FSharpType.GetRecordFields(recordType)\n",
    "    |> Array.fold (fun acc field ->\n",
    "        let fieldValue = field.GetValue(nftTraits) :?> Map<string, int>\n",
    "        let traitScores = \n",
    "            fieldValue |> Map.map (fun key value ->\n",
    "                Math.Round(100.0 - (float value / float totalNfts) * 100.0, 2)\n",
    "            )\n",
    "        Map.add field.Name traitScores acc\n",
    "    ) Map.empty\n",
    "\n",
    "\n",
    "let r1ScoredTraits = processNFTTraits nftRound1Traits r1TotalNfts\n",
    "let r2ScoredTraits = processNFTTraits nftRound2Traits r2TotalNfts"
   ]
  },
  {
   "cell_type": "code",
   "execution_count": null,
   "metadata": {
    "dotnet_interactive": {
     "language": "fsharp"
    },
    "polyglot_notebook": {
     "kernelName": "fsharp"
    },
    "vscode": {
     "languageId": "polyglot-notebook"
    }
   },
   "outputs": [
    {
     "data": {
      "text/html": [
       "<details open=\"open\" class=\"dni-treeview\"><summary><span class=\"dni-code-hint\"><code>{ Round1 = map [(&quot;Total&quot;, 804)]\\n  Round2 = map [(&quot;Total&quot;, 2034)] }</code></span></summary><div><table><thead><tr></tr></thead><tbody><tr><td>Round1</td><td><table><thead><tr><th><i>key</i></th><th>value</th></tr></thead><tbody><tr><td><div class=\"dni-plaintext\"><pre>Total</pre></div></td><td><div class=\"dni-plaintext\"><pre>804</pre></div></td></tr></tbody></table></td></tr><tr><td>Round2</td><td><table><thead><tr><th><i>key</i></th><th>value</th></tr></thead><tbody><tr><td><div class=\"dni-plaintext\"><pre>Total</pre></div></td><td><div class=\"dni-plaintext\"><pre>2034</pre></div></td></tr></tbody></table></td></tr></tbody></table></div></details><style>\r\n",
       ".dni-code-hint {\r\n",
       "    font-style: italic;\r\n",
       "    overflow: hidden;\r\n",
       "    white-space: nowrap;\r\n",
       "}\r\n",
       ".dni-treeview {\r\n",
       "    white-space: nowrap;\r\n",
       "}\r\n",
       ".dni-treeview td {\r\n",
       "    vertical-align: top;\r\n",
       "    text-align: start;\r\n",
       "}\r\n",
       "details.dni-treeview {\r\n",
       "    padding-left: 1em;\r\n",
       "}\r\n",
       "table td {\r\n",
       "    text-align: start;\r\n",
       "}\r\n",
       "table tr { \r\n",
       "    vertical-align: top; \r\n",
       "    margin: 0em 0px;\r\n",
       "}\r\n",
       "table tr td pre \r\n",
       "{ \r\n",
       "    vertical-align: top !important; \r\n",
       "    margin: 0em 0px !important;\r\n",
       "} \r\n",
       "table th {\r\n",
       "    text-align: start;\r\n",
       "}\r\n",
       "</style>"
      ]
     },
     "metadata": {},
     "output_type": "display_data"
    }
   ],
   "source": [
    "//Displaying the total NFTs\n",
    "type nftTotals = { \n",
    "    Round1: Map<string, int> \n",
    "    Round2: Map<string, int> \n",
    "    }\n",
    "\n",
    "let nftTotalsList = [\n",
    "    { Round1 = Map.ofList [(\"Total\", 804)]; \n",
    "    Round2 = Map.ofList [(\"Total\", 2034)] }\n",
    "]\n",
    "\n",
    "nftTotalsList.[0]\n"
   ]
  },
  {
   "cell_type": "code",
   "execution_count": 165,
   "metadata": {
    "dotnet_interactive": {
     "language": "fsharp"
    },
    "polyglot_notebook": {
     "kernelName": "fsharp"
    },
    "vscode": {
     "languageId": "polyglot-notebook"
    }
   },
   "outputs": [
    {
     "name": "stdout",
     "output_type": "stream",
     "text": [
      "Background:"
     ]
    },
    {
     "data": {
      "text/html": [
       "<table><thead><tr><th><i>key</i></th><th>value</th></tr></thead><tbody><tr><td><div class=\"dni-plaintext\"><pre>Blue Sky</pre></div></td><td><div class=\"dni-plaintext\"><pre>80.97</pre></div></td></tr><tr><td><div class=\"dni-plaintext\"><pre>Library</pre></div></td><td><div class=\"dni-plaintext\"><pre>80.47</pre></div></td></tr><tr><td><div class=\"dni-plaintext\"><pre>Mountains</pre></div></td><td><div class=\"dni-plaintext\"><pre>81.22</pre></div></td></tr><tr><td><div class=\"dni-plaintext\"><pre>Pink Sky</pre></div></td><td><div class=\"dni-plaintext\"><pre>84.7</pre></div></td></tr><tr><td><div class=\"dni-plaintext\"><pre>Starry Mountains</pre></div></td><td><div class=\"dni-plaintext\"><pre>87.19</pre></div></td></tr><tr><td><div class=\"dni-plaintext\"><pre>Starry Sky</pre></div></td><td><div class=\"dni-plaintext\"><pre>85.45</pre></div></td></tr></tbody></table><style>\r\n",
       ".dni-code-hint {\r\n",
       "    font-style: italic;\r\n",
       "    overflow: hidden;\r\n",
       "    white-space: nowrap;\r\n",
       "}\r\n",
       ".dni-treeview {\r\n",
       "    white-space: nowrap;\r\n",
       "}\r\n",
       ".dni-treeview td {\r\n",
       "    vertical-align: top;\r\n",
       "    text-align: start;\r\n",
       "}\r\n",
       "details.dni-treeview {\r\n",
       "    padding-left: 1em;\r\n",
       "}\r\n",
       "table td {\r\n",
       "    text-align: start;\r\n",
       "}\r\n",
       "table tr { \r\n",
       "    vertical-align: top; \r\n",
       "    margin: 0em 0px;\r\n",
       "}\r\n",
       "table tr td pre \r\n",
       "{ \r\n",
       "    vertical-align: top !important; \r\n",
       "    margin: 0em 0px !important;\r\n",
       "} \r\n",
       "table th {\r\n",
       "    text-align: start;\r\n",
       "}\r\n",
       "</style>"
      ]
     },
     "metadata": {},
     "output_type": "display_data"
    }
   ],
   "source": [
    "printf \"%s:\" \"Background\"\n",
    "r1ScoredTraits[\"Background\"]"
   ]
  },
  {
   "cell_type": "code",
   "execution_count": 164,
   "metadata": {
    "dotnet_interactive": {
     "language": "fsharp"
    },
    "polyglot_notebook": {
     "kernelName": "fsharp"
    },
    "vscode": {
     "languageId": "polyglot-notebook"
    }
   },
   "outputs": [
    {
     "name": "stdout",
     "output_type": "stream",
     "text": [
      "Bear:"
     ]
    },
    {
     "data": {
      "text/html": [
       "<table><thead><tr><th><i>key</i></th><th>value</th></tr></thead><tbody><tr><td><div class=\"dni-plaintext\"><pre>Black Bear</pre></div></td><td><div class=\"dni-plaintext\"><pre>89.3</pre></div></td></tr><tr><td><div class=\"dni-plaintext\"><pre>Gold Bear</pre></div></td><td><div class=\"dni-plaintext\"><pre>99.63</pre></div></td></tr><tr><td><div class=\"dni-plaintext\"><pre>Panda Bear</pre></div></td><td><div class=\"dni-plaintext\"><pre>86.44</pre></div></td></tr><tr><td><div class=\"dni-plaintext\"><pre>Pink Bear</pre></div></td><td><div class=\"dni-plaintext\"><pre>83.46</pre></div></td></tr><tr><td><div class=\"dni-plaintext\"><pre>Polar Bear</pre></div></td><td><div class=\"dni-plaintext\"><pre>80.6</pre></div></td></tr><tr><td><div class=\"dni-plaintext\"><pre>Red Panda</pre></div></td><td><div class=\"dni-plaintext\"><pre>82.71</pre></div></td></tr><tr><td><div class=\"dni-plaintext\"><pre>Teddy Bear</pre></div></td><td><div class=\"dni-plaintext\"><pre>77.86</pre></div></td></tr></tbody></table><style>\r\n",
       ".dni-code-hint {\r\n",
       "    font-style: italic;\r\n",
       "    overflow: hidden;\r\n",
       "    white-space: nowrap;\r\n",
       "}\r\n",
       ".dni-treeview {\r\n",
       "    white-space: nowrap;\r\n",
       "}\r\n",
       ".dni-treeview td {\r\n",
       "    vertical-align: top;\r\n",
       "    text-align: start;\r\n",
       "}\r\n",
       "details.dni-treeview {\r\n",
       "    padding-left: 1em;\r\n",
       "}\r\n",
       "table td {\r\n",
       "    text-align: start;\r\n",
       "}\r\n",
       "table tr { \r\n",
       "    vertical-align: top; \r\n",
       "    margin: 0em 0px;\r\n",
       "}\r\n",
       "table tr td pre \r\n",
       "{ \r\n",
       "    vertical-align: top !important; \r\n",
       "    margin: 0em 0px !important;\r\n",
       "} \r\n",
       "table th {\r\n",
       "    text-align: start;\r\n",
       "}\r\n",
       "</style>"
      ]
     },
     "metadata": {},
     "output_type": "display_data"
    }
   ],
   "source": [
    "printf \"%s:\" \"Bear\"\n",
    "r1ScoredTraits[\"Bear\"]"
   ]
  },
  {
   "cell_type": "code",
   "execution_count": 163,
   "metadata": {
    "dotnet_interactive": {
     "language": "fsharp"
    },
    "polyglot_notebook": {
     "kernelName": "fsharp"
    },
    "vscode": {
     "languageId": "polyglot-notebook"
    }
   },
   "outputs": [
    {
     "name": "stdout",
     "output_type": "stream",
     "text": [
      "Clothes:"
     ]
    },
    {
     "data": {
      "text/html": [
       "<table><thead><tr><th><i>key</i></th><th>value</th></tr></thead><tbody><tr><td><div class=\"dni-plaintext\"><pre>Angel Dress</pre></div></td><td><div class=\"dni-plaintext\"><pre>98.63</pre></div></td></tr><tr><td><div class=\"dni-plaintext\"><pre>Archaeologist T-shirt</pre></div></td><td><div class=\"dni-plaintext\"><pre>98.76</pre></div></td></tr><tr><td><div class=\"dni-plaintext\"><pre>Banana Suit</pre></div></td><td><div class=\"dni-plaintext\"><pre>99.88</pre></div></td></tr><tr><td><div class=\"dni-plaintext\"><pre>Basketball  Jersey</pre></div></td><td><div class=\"dni-plaintext\"><pre>99.13</pre></div></td></tr><tr><td><div class=\"dni-plaintext\"><pre>Beach Tank Top</pre></div></td><td><div class=\"dni-plaintext\"><pre>98.38</pre></div></td></tr><tr><td><div class=\"dni-plaintext\"><pre>Black Denim Jacket</pre></div></td><td><div class=\"dni-plaintext\"><pre>98.26</pre></div></td></tr><tr><td><div class=\"dni-plaintext\"><pre>Black Official Suit</pre></div></td><td><div class=\"dni-plaintext\"><pre>98.51</pre></div></td></tr><tr><td><div class=\"dni-plaintext\"><pre>Black Official Vest</pre></div></td><td><div class=\"dni-plaintext\"><pre>99</pre></div></td></tr><tr><td><div class=\"dni-plaintext\"><pre>Blue Baseball Shirt</pre></div></td><td><div class=\"dni-plaintext\"><pre>98.13</pre></div></td></tr><tr><td><div class=\"dni-plaintext\"><pre>Blue Dino</pre></div></td><td><div class=\"dni-plaintext\"><pre>98.63</pre></div></td></tr><tr><td><div class=\"dni-plaintext\"><pre>Brown Blazer</pre></div></td><td><div class=\"dni-plaintext\"><pre>98.51</pre></div></td></tr><tr><td><div class=\"dni-plaintext\"><pre>Businessman Suit</pre></div></td><td><div class=\"dni-plaintext\"><pre>98.38</pre></div></td></tr><tr><td><div class=\"dni-plaintext\"><pre>Chef Jacket</pre></div></td><td><div class=\"dni-plaintext\"><pre>98.88</pre></div></td></tr><tr><td><div class=\"dni-plaintext\"><pre>Chewie Fur</pre></div></td><td><div class=\"dni-plaintext\"><pre>99</pre></div></td></tr><tr><td><div class=\"dni-plaintext\"><pre>Colorful Balloons</pre></div></td><td><div class=\"dni-plaintext\"><pre>99.88</pre></div></td></tr><tr><td><div class=\"dni-plaintext\"><pre>Cop Uniform</pre></div></td><td><div class=\"dni-plaintext\"><pre>97.51</pre></div></td></tr><tr><td><div class=\"dni-plaintext\"><pre>Cowboy Sleeveless Shirt</pre></div></td><td><div class=\"dni-plaintext\"><pre>98.26</pre></div></td></tr><tr><td><div class=\"dni-plaintext\"><pre>Diamond Kimono</pre></div></td><td><div class=\"dni-plaintext\"><pre>99.75</pre></div></td></tr><tr><td><div class=\"dni-plaintext\"><pre>Firefighter Jacket</pre></div></td><td><div class=\"dni-plaintext\"><pre>98.76</pre></div></td></tr><tr><td><div class=\"dni-plaintext\"><pre>Fisherman Clothes</pre></div></td><td><div class=\"dni-plaintext\"><pre>98.13</pre></div></td></tr><tr><td colspan=\"2\"><i>... (more)</i></td></tr></tbody></table><style>\r\n",
       ".dni-code-hint {\r\n",
       "    font-style: italic;\r\n",
       "    overflow: hidden;\r\n",
       "    white-space: nowrap;\r\n",
       "}\r\n",
       ".dni-treeview {\r\n",
       "    white-space: nowrap;\r\n",
       "}\r\n",
       ".dni-treeview td {\r\n",
       "    vertical-align: top;\r\n",
       "    text-align: start;\r\n",
       "}\r\n",
       "details.dni-treeview {\r\n",
       "    padding-left: 1em;\r\n",
       "}\r\n",
       "table td {\r\n",
       "    text-align: start;\r\n",
       "}\r\n",
       "table tr { \r\n",
       "    vertical-align: top; \r\n",
       "    margin: 0em 0px;\r\n",
       "}\r\n",
       "table tr td pre \r\n",
       "{ \r\n",
       "    vertical-align: top !important; \r\n",
       "    margin: 0em 0px !important;\r\n",
       "} \r\n",
       "table th {\r\n",
       "    text-align: start;\r\n",
       "}\r\n",
       "</style>"
      ]
     },
     "metadata": {},
     "output_type": "display_data"
    }
   ],
   "source": [
    "\n",
    "printf \"%s:\" \"Clothes\"\n",
    "r1ScoredTraits[\"Clothes\"]\n"
   ]
  },
  {
   "cell_type": "code",
   "execution_count": 162,
   "metadata": {
    "dotnet_interactive": {
     "language": "fsharp"
    },
    "polyglot_notebook": {
     "kernelName": "fsharp"
    },
    "vscode": {
     "languageId": "polyglot-notebook"
    }
   },
   "outputs": [
    {
     "name": "stdout",
     "output_type": "stream",
     "text": [
      "Face:"
     ]
    },
    {
     "data": {
      "text/html": [
       "<table><thead><tr><th><i>key</i></th><th>value</th></tr></thead><tbody><tr><td><div class=\"dni-plaintext\"><pre>Confident</pre></div></td><td><div class=\"dni-plaintext\"><pre>93.03</pre></div></td></tr><tr><td><div class=\"dni-plaintext\"><pre>Dead</pre></div></td><td><div class=\"dni-plaintext\"><pre>94.4</pre></div></td></tr><tr><td><div class=\"dni-plaintext\"><pre>Emotionless</pre></div></td><td><div class=\"dni-plaintext\"><pre>96.52</pre></div></td></tr><tr><td><div class=\"dni-plaintext\"><pre>Expressionless</pre></div></td><td><div class=\"dni-plaintext\"><pre>91.92</pre></div></td></tr><tr><td><div class=\"dni-plaintext\"><pre>Fake Mustache </pre></div></td><td><div class=\"dni-plaintext\"><pre>93.66</pre></div></td></tr><tr><td><div class=\"dni-plaintext\"><pre>Flirty</pre></div></td><td><div class=\"dni-plaintext\"><pre>93.28</pre></div></td></tr><tr><td><div class=\"dni-plaintext\"><pre>Happy</pre></div></td><td><div class=\"dni-plaintext\"><pre>91.42</pre></div></td></tr><tr><td><div class=\"dni-plaintext\"><pre>In Love</pre></div></td><td><div class=\"dni-plaintext\"><pre>93.16</pre></div></td></tr><tr><td><div class=\"dni-plaintext\"><pre>Kissing</pre></div></td><td><div class=\"dni-plaintext\"><pre>95.52</pre></div></td></tr><tr><td><div class=\"dni-plaintext\"><pre>Mad</pre></div></td><td><div class=\"dni-plaintext\"><pre>93.78</pre></div></td></tr><tr><td><div class=\"dni-plaintext\"><pre>Nervous</pre></div></td><td><div class=\"dni-plaintext\"><pre>97.14</pre></div></td></tr><tr><td><div class=\"dni-plaintext\"><pre>Neutral</pre></div></td><td><div class=\"dni-plaintext\"><pre>96.02</pre></div></td></tr><tr><td><div class=\"dni-plaintext\"><pre>Painful Smile</pre></div></td><td><div class=\"dni-plaintext\"><pre>96.14</pre></div></td></tr><tr><td><div class=\"dni-plaintext\"><pre>Playful</pre></div></td><td><div class=\"dni-plaintext\"><pre>94.65</pre></div></td></tr><tr><td><div class=\"dni-plaintext\"><pre>Sleepy</pre></div></td><td><div class=\"dni-plaintext\"><pre>95.4</pre></div></td></tr><tr><td><div class=\"dni-plaintext\"><pre>Wink 2</pre></div></td><td><div class=\"dni-plaintext\"><pre>95.52</pre></div></td></tr><tr><td><div class=\"dni-plaintext\"><pre>Zipped</pre></div></td><td><div class=\"dni-plaintext\"><pre>95.77</pre></div></td></tr><tr><td><div class=\"dni-plaintext\"><pre>unamused</pre></div></td><td><div class=\"dni-plaintext\"><pre>96.64</pre></div></td></tr><tr><td><div class=\"dni-plaintext\"><pre>wink</pre></div></td><td><div class=\"dni-plaintext\"><pre>96.02</pre></div></td></tr></tbody></table><style>\r\n",
       ".dni-code-hint {\r\n",
       "    font-style: italic;\r\n",
       "    overflow: hidden;\r\n",
       "    white-space: nowrap;\r\n",
       "}\r\n",
       ".dni-treeview {\r\n",
       "    white-space: nowrap;\r\n",
       "}\r\n",
       ".dni-treeview td {\r\n",
       "    vertical-align: top;\r\n",
       "    text-align: start;\r\n",
       "}\r\n",
       "details.dni-treeview {\r\n",
       "    padding-left: 1em;\r\n",
       "}\r\n",
       "table td {\r\n",
       "    text-align: start;\r\n",
       "}\r\n",
       "table tr { \r\n",
       "    vertical-align: top; \r\n",
       "    margin: 0em 0px;\r\n",
       "}\r\n",
       "table tr td pre \r\n",
       "{ \r\n",
       "    vertical-align: top !important; \r\n",
       "    margin: 0em 0px !important;\r\n",
       "} \r\n",
       "table th {\r\n",
       "    text-align: start;\r\n",
       "}\r\n",
       "</style>"
      ]
     },
     "metadata": {},
     "output_type": "display_data"
    }
   ],
   "source": [
    "printf \"%s:\" \"Face\"\n",
    "r1ScoredTraits[\"Face\"]"
   ]
  },
  {
   "cell_type": "code",
   "execution_count": 161,
   "metadata": {
    "dotnet_interactive": {
     "language": "fsharp"
    },
    "polyglot_notebook": {
     "kernelName": "fsharp"
    },
    "vscode": {
     "languageId": "polyglot-notebook"
    }
   },
   "outputs": [
    {
     "name": "stdout",
     "output_type": "stream",
     "text": [
      "Handheld:"
     ]
    },
    {
     "data": {
      "text/html": [
       "<table><thead><tr><th><i>key</i></th><th>value</th></tr></thead><tbody><tr><td><div class=\"dni-plaintext\"><pre>Black Devil Trident</pre></div></td><td><div class=\"dni-plaintext\"><pre>98.38</pre></div></td></tr><tr><td><div class=\"dni-plaintext\"><pre>Broom</pre></div></td><td><div class=\"dni-plaintext\"><pre>96.64</pre></div></td></tr><tr><td><div class=\"dni-plaintext\"><pre>Clown Lollipop</pre></div></td><td><div class=\"dni-plaintext\"><pre>97.64</pre></div></td></tr><tr><td><div class=\"dni-plaintext\"><pre>Fishing Rod</pre></div></td><td><div class=\"dni-plaintext\"><pre>98.38</pre></div></td></tr><tr><td><div class=\"dni-plaintext\"><pre>Graffiti Spray</pre></div></td><td><div class=\"dni-plaintext\"><pre>96.52</pre></div></td></tr><tr><td><div class=\"dni-plaintext\"><pre>King Staff</pre></div></td><td><div class=\"dni-plaintext\"><pre>99.5</pre></div></td></tr><tr><td><div class=\"dni-plaintext\"><pre>Ninja Star</pre></div></td><td><div class=\"dni-plaintext\"><pre>97.89</pre></div></td></tr><tr><td><div class=\"dni-plaintext\"><pre>None</pre></div></td><td><div class=\"dni-plaintext\"><pre>41.04</pre></div></td></tr><tr><td><div class=\"dni-plaintext\"><pre>Pirate sword</pre></div></td><td><div class=\"dni-plaintext\"><pre>96.89</pre></div></td></tr><tr><td><div class=\"dni-plaintext\"><pre>Red Devil Trident</pre></div></td><td><div class=\"dni-plaintext\"><pre>97.51</pre></div></td></tr><tr><td><div class=\"dni-plaintext\"><pre>Robe</pre></div></td><td><div class=\"dni-plaintext\"><pre>95.27</pre></div></td></tr><tr><td><div class=\"dni-plaintext\"><pre>Shovel</pre></div></td><td><div class=\"dni-plaintext\"><pre>96.64</pre></div></td></tr><tr><td><div class=\"dni-plaintext\"><pre>Singer Microphone</pre></div></td><td><div class=\"dni-plaintext\"><pre>96.77</pre></div></td></tr><tr><td><div class=\"dni-plaintext\"><pre>Snowboard</pre></div></td><td><div class=\"dni-plaintext\"><pre>97.39</pre></div></td></tr><tr><td><div class=\"dni-plaintext\"><pre>Strawberry</pre></div></td><td><div class=\"dni-plaintext\"><pre>96.52</pre></div></td></tr><tr><td><div class=\"dni-plaintext\"><pre>Sword</pre></div></td><td><div class=\"dni-plaintext\"><pre>97.01</pre></div></td></tr></tbody></table><style>\r\n",
       ".dni-code-hint {\r\n",
       "    font-style: italic;\r\n",
       "    overflow: hidden;\r\n",
       "    white-space: nowrap;\r\n",
       "}\r\n",
       ".dni-treeview {\r\n",
       "    white-space: nowrap;\r\n",
       "}\r\n",
       ".dni-treeview td {\r\n",
       "    vertical-align: top;\r\n",
       "    text-align: start;\r\n",
       "}\r\n",
       "details.dni-treeview {\r\n",
       "    padding-left: 1em;\r\n",
       "}\r\n",
       "table td {\r\n",
       "    text-align: start;\r\n",
       "}\r\n",
       "table tr { \r\n",
       "    vertical-align: top; \r\n",
       "    margin: 0em 0px;\r\n",
       "}\r\n",
       "table tr td pre \r\n",
       "{ \r\n",
       "    vertical-align: top !important; \r\n",
       "    margin: 0em 0px !important;\r\n",
       "} \r\n",
       "table th {\r\n",
       "    text-align: start;\r\n",
       "}\r\n",
       "</style>"
      ]
     },
     "metadata": {},
     "output_type": "display_data"
    }
   ],
   "source": [
    "printf \"%s:\" \"Handheld\"\n",
    "r1ScoredTraits[\"Handheld\"]"
   ]
  },
  {
   "cell_type": "code",
   "execution_count": 160,
   "metadata": {
    "dotnet_interactive": {
     "language": "fsharp"
    },
    "polyglot_notebook": {
     "kernelName": "fsharp"
    },
    "vscode": {
     "languageId": "polyglot-notebook"
    }
   },
   "outputs": [
    {
     "name": "stdout",
     "output_type": "stream",
     "text": [
      "Head:"
     ]
    },
    {
     "data": {
      "text/html": [
       "<table><thead><tr><th><i>key</i></th><th>value</th></tr></thead><tbody><tr><td><div class=\"dni-plaintext\"><pre>Archaeologist Hat</pre></div></td><td><div class=\"dni-plaintext\"><pre>98.76</pre></div></td></tr><tr><td><div class=\"dni-plaintext\"><pre>Arrow</pre></div></td><td><div class=\"dni-plaintext\"><pre>98.01</pre></div></td></tr><tr><td><div class=\"dni-plaintext\"><pre>Black Mask</pre></div></td><td><div class=\"dni-plaintext\"><pre>98.63</pre></div></td></tr><tr><td><div class=\"dni-plaintext\"><pre>Black Red Hat</pre></div></td><td><div class=\"dni-plaintext\"><pre>97.64</pre></div></td></tr><tr><td><div class=\"dni-plaintext\"><pre>Black Round Hat</pre></div></td><td><div class=\"dni-plaintext\"><pre>98.38</pre></div></td></tr><tr><td><div class=\"dni-plaintext\"><pre>Black Square Hat</pre></div></td><td><div class=\"dni-plaintext\"><pre>97.64</pre></div></td></tr><tr><td><div class=\"dni-plaintext\"><pre>Blue Dino Hood</pre></div></td><td><div class=\"dni-plaintext\"><pre>98.38</pre></div></td></tr><tr><td><div class=\"dni-plaintext\"><pre>Blue Panama</pre></div></td><td><div class=\"dni-plaintext\"><pre>98.26</pre></div></td></tr><tr><td><div class=\"dni-plaintext\"><pre>Bubbles</pre></div></td><td><div class=\"dni-plaintext\"><pre>97.51</pre></div></td></tr><tr><td><div class=\"dni-plaintext\"><pre>Chef Hat</pre></div></td><td><div class=\"dni-plaintext\"><pre>98.13</pre></div></td></tr><tr><td><div class=\"dni-plaintext\"><pre>Cop Hat</pre></div></td><td><div class=\"dni-plaintext\"><pre>98.76</pre></div></td></tr><tr><td><div class=\"dni-plaintext\"><pre>Fancy Sunglasses</pre></div></td><td><div class=\"dni-plaintext\"><pre>98.26</pre></div></td></tr><tr><td><div class=\"dni-plaintext\"><pre>Firefighter Hat</pre></div></td><td><div class=\"dni-plaintext\"><pre>97.51</pre></div></td></tr><tr><td><div class=\"dni-plaintext\"><pre>Firefighter Helmet</pre></div></td><td><div class=\"dni-plaintext\"><pre>98.51</pre></div></td></tr><tr><td><div class=\"dni-plaintext\"><pre>Goku Hair</pre></div></td><td><div class=\"dni-plaintext\"><pre>98.76</pre></div></td></tr><tr><td><div class=\"dni-plaintext\"><pre>Gorilla Head</pre></div></td><td><div class=\"dni-plaintext\"><pre>98.13</pre></div></td></tr><tr><td><div class=\"dni-plaintext\"><pre>Green Dino Hood</pre></div></td><td><div class=\"dni-plaintext\"><pre>98.01</pre></div></td></tr><tr><td><div class=\"dni-plaintext\"><pre>Halo</pre></div></td><td><div class=\"dni-plaintext\"><pre>99.75</pre></div></td></tr><tr><td><div class=\"dni-plaintext\"><pre>Helmet With Water</pre></div></td><td><div class=\"dni-plaintext\"><pre>99.63</pre></div></td></tr><tr><td><div class=\"dni-plaintext\"><pre>Hero Mask</pre></div></td><td><div class=\"dni-plaintext\"><pre>96.39</pre></div></td></tr><tr><td colspan=\"2\"><i>... (more)</i></td></tr></tbody></table><style>\r\n",
       ".dni-code-hint {\r\n",
       "    font-style: italic;\r\n",
       "    overflow: hidden;\r\n",
       "    white-space: nowrap;\r\n",
       "}\r\n",
       ".dni-treeview {\r\n",
       "    white-space: nowrap;\r\n",
       "}\r\n",
       ".dni-treeview td {\r\n",
       "    vertical-align: top;\r\n",
       "    text-align: start;\r\n",
       "}\r\n",
       "details.dni-treeview {\r\n",
       "    padding-left: 1em;\r\n",
       "}\r\n",
       "table td {\r\n",
       "    text-align: start;\r\n",
       "}\r\n",
       "table tr { \r\n",
       "    vertical-align: top; \r\n",
       "    margin: 0em 0px;\r\n",
       "}\r\n",
       "table tr td pre \r\n",
       "{ \r\n",
       "    vertical-align: top !important; \r\n",
       "    margin: 0em 0px !important;\r\n",
       "} \r\n",
       "table th {\r\n",
       "    text-align: start;\r\n",
       "}\r\n",
       "</style>"
      ]
     },
     "metadata": {},
     "output_type": "display_data"
    }
   ],
   "source": [
    "\n",
    "printf \"%s:\" \"Head\"\n",
    "r1ScoredTraits[\"Head\"]\n"
   ]
  },
  {
   "cell_type": "code",
   "execution_count": 159,
   "metadata": {
    "dotnet_interactive": {
     "language": "fsharp"
    },
    "polyglot_notebook": {
     "kernelName": "fsharp"
    },
    "vscode": {
     "languageId": "polyglot-notebook"
    }
   },
   "outputs": [
    {
     "name": "stdout",
     "output_type": "stream",
     "text": [
      "Skins:"
     ]
    },
    {
     "data": {
      "text/html": [
       "<table><thead><tr><th><i>key</i></th><th>value</th></tr></thead><tbody><tr><td><div class=\"dni-plaintext\"><pre>None</pre></div></td><td><div class=\"dni-plaintext\"><pre>3.61</pre></div></td></tr><tr><td><div class=\"dni-plaintext\"><pre>Raggedy Bear</pre></div></td><td><div class=\"dni-plaintext\"><pre>98.01</pre></div></td></tr><tr><td><div class=\"dni-plaintext\"><pre>Zombie</pre></div></td><td><div class=\"dni-plaintext\"><pre>98.38</pre></div></td></tr></tbody></table><style>\r\n",
       ".dni-code-hint {\r\n",
       "    font-style: italic;\r\n",
       "    overflow: hidden;\r\n",
       "    white-space: nowrap;\r\n",
       "}\r\n",
       ".dni-treeview {\r\n",
       "    white-space: nowrap;\r\n",
       "}\r\n",
       ".dni-treeview td {\r\n",
       "    vertical-align: top;\r\n",
       "    text-align: start;\r\n",
       "}\r\n",
       "details.dni-treeview {\r\n",
       "    padding-left: 1em;\r\n",
       "}\r\n",
       "table td {\r\n",
       "    text-align: start;\r\n",
       "}\r\n",
       "table tr { \r\n",
       "    vertical-align: top; \r\n",
       "    margin: 0em 0px;\r\n",
       "}\r\n",
       "table tr td pre \r\n",
       "{ \r\n",
       "    vertical-align: top !important; \r\n",
       "    margin: 0em 0px !important;\r\n",
       "} \r\n",
       "table th {\r\n",
       "    text-align: start;\r\n",
       "}\r\n",
       "</style>"
      ]
     },
     "metadata": {},
     "output_type": "display_data"
    }
   ],
   "source": [
    "printf \"%s:\" \"Skins\"\n",
    "r1ScoredTraits[\"Skins\"]"
   ]
  },
  {
   "cell_type": "code",
   "execution_count": 158,
   "metadata": {
    "dotnet_interactive": {
     "language": "fsharp"
    },
    "polyglot_notebook": {
     "kernelName": "fsharp"
    },
    "vscode": {
     "languageId": "polyglot-notebook"
    }
   },
   "outputs": [
    {
     "name": "stdout",
     "output_type": "stream",
     "text": [
      "Trait Count:"
     ]
    },
    {
     "data": {
      "text/html": [
       "<table><thead><tr><th><i>key</i></th><th>value</th></tr></thead><tbody><tr><td><div class=\"dni-plaintext\"><pre>4</pre></div></td><td><div class=\"dni-plaintext\"><pre>93.91</pre></div></td></tr><tr><td><div class=\"dni-plaintext\"><pre>5</pre></div></td><td><div class=\"dni-plaintext\"><pre>46.14</pre></div></td></tr><tr><td><div class=\"dni-plaintext\"><pre>6</pre></div></td><td><div class=\"dni-plaintext\"><pre>62.81</pre></div></td></tr><tr><td><div class=\"dni-plaintext\"><pre>7</pre></div></td><td><div class=\"dni-plaintext\"><pre>97.14</pre></div></td></tr></tbody></table><style>\r\n",
       ".dni-code-hint {\r\n",
       "    font-style: italic;\r\n",
       "    overflow: hidden;\r\n",
       "    white-space: nowrap;\r\n",
       "}\r\n",
       ".dni-treeview {\r\n",
       "    white-space: nowrap;\r\n",
       "}\r\n",
       ".dni-treeview td {\r\n",
       "    vertical-align: top;\r\n",
       "    text-align: start;\r\n",
       "}\r\n",
       "details.dni-treeview {\r\n",
       "    padding-left: 1em;\r\n",
       "}\r\n",
       "table td {\r\n",
       "    text-align: start;\r\n",
       "}\r\n",
       "table tr { \r\n",
       "    vertical-align: top; \r\n",
       "    margin: 0em 0px;\r\n",
       "}\r\n",
       "table tr td pre \r\n",
       "{ \r\n",
       "    vertical-align: top !important; \r\n",
       "    margin: 0em 0px !important;\r\n",
       "} \r\n",
       "table th {\r\n",
       "    text-align: start;\r\n",
       "}\r\n",
       "</style>"
      ]
     },
     "metadata": {},
     "output_type": "display_data"
    }
   ],
   "source": [
    "printf \"%s:\" \"Trait Count\"\n",
    "r1ScoredTraits[\"TraitCount\"]"
   ]
  },
  {
   "cell_type": "code",
   "execution_count": null,
   "metadata": {
    "dotnet_interactive": {
     "language": "fsharp"
    },
    "polyglot_notebook": {
     "kernelName": "fsharp"
    },
    "vscode": {
     "languageId": "polyglot-notebook"
    }
   },
   "outputs": [],
   "source": [
    "//Compute the ranks of the NFTs\n",
    "\n",
    "//Serialize JSON\n",
    "type NFT = {\n",
    "    assetName: string\n",
    "    encodedName: string\n",
    "    Background: string\n",
    "    Bear: string\n",
    "    Clothes: string\n",
    "    Face: string\n",
    "    Handheld: string\n",
    "    Head: string\n",
    "    Skins: string\n",
    "    [<JsonPropertyName(\"Trait Count\")>]\n",
    "    TraitCount: string\n",
    "}\n",
    "\n",
    "let nftRound1NFTS = loadNFTs<NFT list> \"./NFTR1.json\"\n",
    "let nftRound2NFTS = loadNFTs<NFT list> \"./NFTR2.json\"\n",
    "\n",
    "//Obtain Ranks\n",
    "let computeNFTRank nftList nftTraitScores = \n",
    "    nftList\n",
    "    |> List.map (fun nft ->\n",
    "        let rarityScore =  \n",
    "            [\n",
    "                (\"Background\", nft.Background)\n",
    "                (\"Bear\", nft.Bear)\n",
    "                (\"Clothes\", nft.Clothes)\n",
    "                (\"Face\", nft.Face)\n",
    "                (\"Handheld\", nft.Handheld)\n",
    "                (\"Head\", nft.Head)\n",
    "                (\"Skins\", nft.Skins)\n",
    "                (\"TraitCount\", nft.TraitCount)\n",
    "            ]\n",
    "            |> List.fold (fun acc (attrName, attrValue) ->  \n",
    "                match Map.tryFind attrName nftTraitScores with\n",
    "                | Some traitMap ->  \n",
    "                    acc + (Map.tryFind attrValue traitMap |> Option.defaultValue 0.0)\n",
    "                | None -> acc \n",
    "            ) 0.0 \n",
    "        (nft.assetName, nft.encodedName, rarityScore) \n",
    "    )\n",
    "    |> List.sortBy (fun (_, _, rarityScore) -> -rarityScore)\n",
    "    |> List.mapi (fun index (assetName, encodedName, rarityScore) -> \n",
    "    (index + 1, assetName, encodedName, rarityScore))\n",
    "\n",
    "        \n",
    "let test = computeNFTRank nftRound1NFTS r1ScoredTraits\n",
    "test |> List.iter(fun row -> printf \"%A\\n\" row)\n"
   ]
  },
  {
   "cell_type": "code",
   "execution_count": null,
   "metadata": {
    "dotnet_interactive": {
     "language": "fsharp"
    },
    "polyglot_notebook": {
     "kernelName": "fsharp"
    },
    "vscode": {
     "languageId": "polyglot-notebook"
    }
   },
   "outputs": [],
   "source": [
    "//Make CSV file mapping Subject -> Rank\n",
    "open System.IO\n",
    "\n",
    "let listToCsv (data: (int * string * string * float) list) (policyId: string) (filePath: string) =\n",
    "    let isNewFile = not (File.Exists(filePath))\n",
    "    \n",
    "    let header = \"Subject,Rank\"\n",
    "    let rows = \n",
    "        data\n",
    "        |> List.map (fun (rank, assetName, _, _) ->  \n",
    "            let subject = sprintf \"%s%s\" policyId assetName  \n",
    "            sprintf \"%s,%d\" subject rank  \n",
    "        )\n",
    "    \n",
    "    if isNewFile then\n",
    "        File.AppendAllLines(filePath, [header])\n",
    "\n",
    "    let fullCsv = rows\n",
    "    File.AppendAllLines(filePath, fullCsv)\n",
    "\n",
    "let rankedNFTround1 = computeNFTRank nftRound1NFTS r1ScoredTraits\n",
    "let rankedNFTround2 = computeNFTRank nftRound2NFTS r2ScoredTraits\n",
    "listToCsv rankedNFTround1 \"ab182ed76b669b49ee54a37dee0d0064ad4208a859cc4fdf3f906d87\" \"NFT_Ranks.csv\"\n",
    "listToCsv rankedNFTround2 \"da3562fad43b7759f679970fb4e0ec07ab5bebe5c703043acda07a3c\" \"NFT_Ranks.csv\""
   ]
  },
  {
   "cell_type": "code",
   "execution_count": null,
   "metadata": {
    "vscode": {
     "languageId": "polyglot-notebook"
    }
   },
   "outputs": [],
   "source": [
    "//Code to calculate rewards for each subject"
   ]
  },
  {
   "cell_type": "code",
   "execution_count": 76,
   "metadata": {
    "dotnet_interactive": {
     "language": "fsharp"
    },
    "polyglot_notebook": {
     "kernelName": "fsharp"
    },
    "vscode": {
     "languageId": "polyglot-notebook"
    }
   },
   "outputs": [],
   "source": [
    "//Code to calculate Marketcap Adjustment to 8,000,000 supply\n",
    "\n",
    "let sumValues (rewardsList: (string * float) list) =\n",
    "    rewardsList |> List.sumBy (fun (_, value) -> value)\n",
    "\n",
    "let marketcapAdjustment rewards = \n",
    "    let finalReward = (rewards*8000000)/10000000\n",
    "    finalReward\n"
   ]
  }
 ],
 "metadata": {
  "kernelspec": {
   "display_name": ".NET (C#)",
   "language": "C#",
   "name": ".net-csharp"
  },
  "language_info": {
   "name": "csharp"
  },
  "polyglot_notebook": {
   "kernelInfo": {
    "defaultKernelName": "csharp",
    "items": [
     {
      "aliases": [],
      "name": "csharp"
     }
    ]
   }
  }
 },
 "nbformat": 4,
 "nbformat_minor": 2
}
