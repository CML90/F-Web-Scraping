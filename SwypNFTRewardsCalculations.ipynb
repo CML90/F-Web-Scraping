{
 "cells": [
  {
   "cell_type": "code",
   "execution_count": 78,
   "metadata": {
    "dotnet_interactive": {
     "language": "fsharp"
    },
    "polyglot_notebook": {
     "kernelName": "fsharp"
    },
    "vscode": {
     "languageId": "polyglot-notebook"
    }
   },
   "outputs": [
    {
     "data": {
      "text/html": [
       "<details open=\"open\" class=\"dni-treeview\"><summary><span class=\"dni-code-hint\"><code>System.Threading.Tasks.Task`1[Microsoft.FSharp.Core.Unit]</code></span></summary><div><table><thead><tr></tr></thead><tbody><tr><td>Id</td><td><div class=\"dni-plaintext\"><pre>2</pre></div></td></tr><tr><td>Exception</td><td><div class=\"dni-plaintext\"><pre>&lt;null&gt;</pre></div></td></tr><tr><td>Status</td><td><span>WaitingForActivation</span></td></tr><tr><td>IsCanceled</td><td><div class=\"dni-plaintext\"><pre>False</pre></div></td></tr><tr><td>IsCompleted</td><td><div class=\"dni-plaintext\"><pre>False</pre></div></td></tr><tr><td>IsCompletedSuccessfully</td><td><div class=\"dni-plaintext\"><pre>False</pre></div></td></tr><tr><td>CreationOptions</td><td><span>None</span></td></tr><tr><td>AsyncState</td><td><div class=\"dni-plaintext\"><pre>&lt;null&gt;</pre></div></td></tr><tr><td>IsFaulted</td><td><div class=\"dni-plaintext\"><pre>False</pre></div></td></tr></tbody></table></div></details><style>\r\n",
       ".dni-code-hint {\r\n",
       "    font-style: italic;\r\n",
       "    overflow: hidden;\r\n",
       "    white-space: nowrap;\r\n",
       "}\r\n",
       ".dni-treeview {\r\n",
       "    white-space: nowrap;\r\n",
       "}\r\n",
       ".dni-treeview td {\r\n",
       "    vertical-align: top;\r\n",
       "    text-align: start;\r\n",
       "}\r\n",
       "details.dni-treeview {\r\n",
       "    padding-left: 1em;\r\n",
       "}\r\n",
       "table td {\r\n",
       "    text-align: start;\r\n",
       "}\r\n",
       "table tr { \r\n",
       "    vertical-align: top; \r\n",
       "    margin: 0em 0px;\r\n",
       "}\r\n",
       "table tr td pre \r\n",
       "{ \r\n",
       "    vertical-align: top !important; \r\n",
       "    margin: 0em 0px !important;\r\n",
       "} \r\n",
       "table th {\r\n",
       "    text-align: start;\r\n",
       "}\r\n",
       "</style>"
      ]
     },
     "metadata": {},
     "output_type": "display_data"
    }
   ],
   "source": [
    "//Web scraper for NFT Round 2 data\n",
    "open System\n",
    "open System.Collections.Generic\n",
    "open System.Net.Http\n",
    "open System.Text\n",
    "open System.Text.Json\n",
    "open System.Threading.Tasks\n",
    "open System.IO\n",
    "\n",
    "let nftRound2Data = List<_>()\n",
    "\n",
    "module WebScraper =\n",
    "\n",
    "    let Scraper (key) : Task =\n",
    "        async {\n",
    "            //get the url of the POST request, specifying which data we want scraped\n",
    "            let url = \"https://cnft.tools/toolsapi/v3/project/teddybearclub2\"\n",
    "            //make HTTP requests\n",
    "            use client = new HttpClient()\n",
    "\n",
    "            // Headers - mimics a request from  web browser, so its less obvious that its a scraper\n",
    "            client.DefaultRequestHeaders.Add(\"User-Agent\", \"Mozilla/5.0 (Macintosh; Intel Mac OS X 10_15_7)\")\n",
    "            \n",
    "            // Base payload - copy the paylod from the Networks tab - F# record\n",
    "            let payloadTemplate = \n",
    "                {|\n",
    "                    project = \"none\"\n",
    "                    sort = \"asc\"\n",
    "                    method = \"rarity\"\n",
    "                    page = 1\n",
    "                    priceOnly = \"all\"\n",
    "                    filters = {| |}\n",
    "                    sliders = \n",
    "                        {| \n",
    "                            minPrice = 0\n",
    "                            maxPrice = 0\n",
    "                            minRank = 0\n",
    "                            maxRank = 0 \n",
    "                        |}\n",
    "                    instantSale = false\n",
    "                    walletCheck = false\n",
    "                    stakes = []\n",
    "                    pageSize = 50\n",
    "                |}\n",
    "\n",
    "            let totalPages = 41\n",
    "            let delayInMilliseconds = 1000\n",
    "\n",
    "            for page in 1 .. totalPages do\n",
    "                printf \"Fetching page %d...\" page\n",
    "                // Update the page number in the payload - for pagination\n",
    "                //page increments automatically\n",
    "                let payload = \n",
    "                    {| payloadTemplate with \n",
    "                        page = page\n",
    "                    |}\n",
    "\n",
    "                //from F# record serialize to JSON and then \n",
    "                let jsonPayload = JsonSerializer.Serialize(payload)\n",
    "                //new HTTP content object saying we are sending json\n",
    "                let content = new StringContent(jsonPayload, Encoding.UTF8, \"application/json\")\n",
    "\n",
    "                try\n",
    "                    // Send the POST request, async F# syntax \n",
    "                    let! response = client.PostAsync(url, content) |> Async.AwaitTask\n",
    "                    if response.IsSuccessStatusCode then\n",
    "                        let! responseString = response.Content.ReadAsStringAsync() |> Async.AwaitTask\n",
    "\n",
    "                        let jsonResponse = JsonSerializer.Deserialize<Dictionary<string, obj>>(responseString)\n",
    "\n",
    "                        // :? casts result to JsonElement\n",
    "                        match jsonResponse.TryGetValue(key) with\n",
    "                        | true, results -> \n",
    "                            let resultsJson = results :?> JsonElement\n",
    "                            if resultsJson.ValueKind = JsonValueKind.Array then\n",
    "                                for element in resultsJson.EnumerateArray() do\n",
    "                                    nftRound2Data.Add(element) // Add each element individually\n",
    "                            else\n",
    "                                printfn $\"Unexpected data format for {key}\"\n",
    "                        | _ -> ()\n",
    "\n",
    "                    else\n",
    "                        printfn \"Failed to fetch page %d. Status code: %A\" page response.StatusCode\n",
    "                        return()\n",
    "                with\n",
    "                    | ex -> \n",
    "                        printfn \"Error on page %d: %s\" page ex.Message\n",
    "                        return()\n",
    "\n",
    "                do! Async.Sleep(delayInMilliseconds)\n",
    "\n",
    "            printf \"Data scraping complete\" \n",
    "        } |> Async.StartAsTask :> Task\n",
    "\n",
    "WebScraper.Scraper(\"stats\")"
   ]
  },
  {
   "cell_type": "code",
   "execution_count": 79,
   "metadata": {
    "dotnet_interactive": {
     "language": "fsharp"
    },
    "polyglot_notebook": {
     "kernelName": "fsharp"
    },
    "vscode": {
     "languageId": "polyglot-notebook"
    }
   },
   "outputs": [
    {
     "name": "stdout",
     "output_type": "stream",
     "text": [
      "[{\n",
      "            \"assetName\": \"TeddyBearsClub869\",\n",
      "            \"assetID\": \"869\",\n",
      "            \"name\": \"Teddy Bears Club #869\",\n",
      "            \"price\": \"x\",\n",
      "            \"cnftID\": \"x\",\n",
      "            \"iconurl\": \"QmYQJ2ZbyNCJYcd8xoWP7oMsRK74RpZcPHRo825nNMZHmW\",\n",
      "            \"url\": \"QmYQJ2ZbyNCJYcd8xoWP7oMsRK74RpZcPHRo825nNMZHmW\",\n",
      "            \"Background\": \"Room\",\n",
      "            \"Bear\": \"Pink Bear\",\n",
      "            \"Clothes\": \"Full Space Suit\",\n",
      "            \"Face\": \"wink 2\",\n",
      "            \"Handheld\": \"Clown Lollipop\",\n",
      "            \"Head\": \"None\",\n",
      "            \"Skins\": \"None\",\n",
      "            \"Trait Count\": \"5\",\n",
      "            \"encodedName\": \"54656464794265617273436c7562383639\",\n",
      "            \"buildType\": \"robot\",\n",
      "            \"rarityScore\": \"841\",\n",
      "            \"rarityRank\": \"1\",\n",
      "            \"prices\": {},\n",
      "            \"listingDate\": \"x\",\n",
      "            \"ownerStakeKey\": \"stake1uy67jvetyl2usuhlnlg85t4vfcq07ung5fzp0gd5fs4m4mcke6277\"\n",
      "        };\n",
      " {\n",
      "            \"assetName\": \"TeddyBearsClub909\",\n",
      "            \"assetID\": \"909\",\n",
      "            \"name\": \"Teddy Bears Club #909\",\n",
      "            \"price\": \"x\",\n",
      "            \"cnftID\": \"x\",\n",
      "            \"iconurl\": \"QmQvU95vhKcKhsoEVTw14jJJj7fLfVgf3tF64xWkchSKzP\",\n",
      "            \"url\": \"QmQvU95vhKcKhsoEVTw14jJJj7fLfVgf3tF64xWkchSKzP\",\n",
      "            \"Background\": \"Bamboo Forest\",\n",
      "            \"Bear\": \"Black Bear\",\n",
      "            \"Clothes\": \"Colorful Balloons\",\n",
      "            \"Face\": \"Expressionless\",\n",
      "            \"Handheld\": \"Honey\",\n",
      "            \"Head\": \"None\",\n",
      "            \"Skins\": \"None\",\n",
      "            \"Trait Count\": \"5\",\n",
      "            \"encodedName\": \"54656464794265617273436c7562393039\",\n",
      "            \"buildType\": \"robot\",\n",
      "            \"rarityScore\": \"435\",\n",
      "            \"rarityRank\": \"2\",\n",
      "            \"prices\": {},\n",
      "            \"listingDate\": \"x\",\n",
      "            \"ownerStakeKey\": \"stake1u94t63xven9kcj7eve6ushxnwtwpc8yfyjr7nf9s5ccrdvcthjdpx\"\n",
      "        };\n",
      " {\n",
      "            \"assetName\": \"TeddyBearsClub1413\",\n",
      "            \"assetID\": \"1413\",\n",
      "            \"name\": \"Teddy Bears Club #1413\",\n",
      "            \"price\": \"x\",\n",
      "            \"cnftID\": \"x\",\n",
      "            \"iconurl\": \"QmURiqtVSVYa34GQrNAGkMHb4SSGXxkzhs5WzCteomPMtz\",\n",
      "            \"url\": \"QmURiqtVSVYa34GQrNAGkMHb4SSGXxkzhs5WzCteomPMtz\",\n",
      "            \"Background\": \"Sunflowers\",\n",
      "            \"Bear\": \"Pink Bear\",\n",
      "            \"Clothes\": \"Balloons\",\n",
      "            \"Face\": \"Mad\",\n",
      "            \"Handheld\": \"Honey\",\n",
      "            \"Head\": \"None\",\n",
      "            \"Skins\": \"None\",\n",
      "            \"Trait Count\": \"5\",\n",
      "            \"encodedName\": \"54656464794265617273436c756231343133\",\n",
      "            \"buildType\": \"robot\",\n",
      "            \"rarityScore\": \"402\",\n",
      "            \"rarityRank\": \"3\",\n",
      "            \"prices\": {},\n",
      "            \"listingDate\": \"x\",\n",
      "            \"ownerStakeKey\": \"stake1u8j29els85nfsc5f003akpsadhfcwnq7lqjfwy6km8q3e8qfntknl\"\n",
      "        };\n",
      " {\n",
      "            \"assetName\": \"TeddyBearsClub5591\",\n",
      "            \"assetID\": \"5591\",\n",
      "            \"name\": \"Teddy Bears Club #5591\",\n",
      "            \"price\": \"x\",\n",
      "            \"cnftID\": \"x\",\n",
      "            \"iconurl\": \"QmNfeeLJzXAGtxbLBfw61UoTG5ZNodGdPbzWoX8vgAw8Mi\",\n",
      "            \"url\": \"QmNfeeLJzXAGtxbLBfw61UoTG5ZNodGdPbzWoX8vgAw8Mi\",\n",
      "            \"Background\": \"Bamboo Forest\",\n",
      "            \"Bear\": \"Panda Bear\",\n",
      "            \"Clothes\": \"Balloons\",\n",
      "            \"Face\": \"In Love\",\n",
      "            \"Handheld\": \"Honey\",\n",
      "            \"Head\": \"None\",\n",
      "            \"Skins\": \"None\",\n",
      "            \"Trait Count\": \"5\",\n",
      "            \"encodedName\": \"54656464794265617273436c756235353931\",\n",
      "            \"buildType\": \"robot\",\n",
      "            \"rarityScore\": \"399\",\n",
      "            \"rarityRank\": \"4\",\n",
      "            \"prices\": {},\n",
      "            \"listingDate\": \"x\",\n",
      "            \"ownerStakeKey\": \"stake1uywk9jq7ckvl0yslrv4ndy76jt7gwpjtcy70g6z7rt6znhcnjd667\"\n",
      "        };\n",
      " {\n",
      "            \"assetName\": \"TeddyBearsClub2661\",\n",
      "            \"assetID\": \"2661\",\n",
      "            \"name\": \"Teddy Bears Club #2661\",\n",
      "            \"price\": \"x\",\n",
      "            \"cnftID\": \"x\",\n",
      "            \"iconurl\": \"QmTgUEKZ9fqTPJyTqeqWzgL1HVjfPWmkGXLtrjZvVepoq6\",\n",
      "            \"url\": \"QmTgUEKZ9fqTPJyTqeqWzgL1HVjfPWmkGXLtrjZvVepoq6\",\n",
      "            \"Background\": \"Sunflowers\",\n",
      "            \"Bear\": \"Teddy Bear\",\n",
      "            \"Clothes\": \"Pineapple Suit\",\n",
      "            \"Face\": \"Wink 1\",\n",
      "            \"Handheld\": \"Shovel\",\n",
      "            \"Head\": \"None\",\n",
      "            \"Skins\": \"None\",\n",
      "            \"Trait Count\": \"5\",\n",
      "            \"encodedName\": \"54656464794265617273436c756232363631\",\n",
      "            \"buildType\": \"robot\",\n",
      "            \"rarityScore\": \"341\",\n",
      "            \"rarityRank\": \"5\",\n",
      "            \"prices\": {},\n",
      "            \"listingDate\": \"x\",\n",
      "            \"ownerStakeKey\": \"stake1ux5wur5ya7frpwq5ea3w726qhw3umnvk6eqe29gllm2qjwszef2ml\"\n",
      "        };\n",
      " {\n",
      "            \"assetName\": \"TeddyBearsClub7361\",\n",
      "            \"assetID\": \"7361\",\n",
      "            \"name\": \"Teddy Bears Club #7361\",\n",
      "            \"price\": \"x\",\n",
      "            \"cnftID\": \"x\",\n",
      "            \"iconurl\": \"QmcrMSZeeyFAV8HnD9MjWkpdev2RoaL3Te1g82qsZhV4hf\",\n",
      "            \"url\": \"QmcrMSZeeyFAV8HnD9MjWkpdev2RoaL3Te1g82qsZhV4hf\",\n",
      "            \"Background\": \"Bamboo Forest\",\n",
      "            \"Bear\": \"Polar Bear\",\n",
      "            \"Clothes\": \"White Space Suit\",\n",
      "            \"Face\": \"Wink 1\",\n",
      "            \"Handheld\": \"Ninja Star\",\n",
      "            \"Head\": \"None\",\n",
      "            \"Skins\": \"None\",\n",
      "            \"Trait Count\": \"5\",\n",
      "            \"encodedName\": \"54656464794265617273436c756237333631\",\n",
      "            \"buildType\": \"robot\",\n",
      "            \"rarityScore\": \"325\",\n",
      "            \"rarityRank\": \"6\",\n",
      "            \"prices\": {},\n",
      "            \"listingDate\": \"x\",\n",
      "            \"ownerStakeKey\": \"stake1u80r3t84wehnkdcdr7uvzhyyjur0ukcv99cnw3hhw28dxqcw7l86r\"\n",
      "        };\n",
      " {\n",
      "            \"assetName\": \"TeddyBearsClub49\",\n",
      "            \"assetID\": \"49\",\n",
      "            \"name\": \"Teddy Bears Club #49\",\n",
      "            \"price\": \"x\",\n",
      "            \"cnftID\": \"x\",\n",
      "            \"iconurl\": \"QmVgaJ7ksNsbAzjg3C9eLNUVyxMNqJofKnwb6xRJ83EpDk\",\n",
      "            \"url\": \"QmVgaJ7ksNsbAzjg3C9eLNUVyxMNqJofKnwb6xRJ83EpDk\",\n",
      "            \"Background\": \"Room\",\n",
      "            \"Bear\": \"Pink Bear\",\n",
      "            \"Clothes\": \"White Space Suit\",\n",
      "            \"Face\": \"Wink 1\",\n",
      "            \"Handheld\": \"Ninja Star\",\n",
      "            \"Head\": \"None\",\n",
      "            \"Skins\": \"None\",\n",
      "            \"Trait Count\": \"5\",\n",
      "            \"encodedName\": \"54656464794265617273436c75623439\",\n",
      "            \"buildType\": \"robot\",\n",
      "            \"rarityScore\": \"324\",\n",
      "            \"rarityRank\": \"7\",\n",
      "            \"prices\": {},\n",
      "            \"listingDate\": \"x\",\n",
      "            \"ownerStakeKey\": \"stake1ux6mk6q89ppdsned5zt3kazaqa7rlmddg80mctp32vv54ggpcfv9u\"\n",
      "        };\n",
      " {\n",
      "            \"assetName\": \"TeddyBearsClub1454\",\n",
      "            \"assetID\": \"1454\",\n",
      "            \"name\": \"Teddy Bears Club #1454\",\n",
      "            \"price\": \"x\",\n",
      "            \"cnftID\": \"x\",\n",
      "            \"iconurl\": \"QmeL4bk5f4KoLsTcBFxVFXT82fBjzpUEx7ktAKQVegcnFm\",\n",
      "            \"url\": \"QmeL4bk5f4KoLsTcBFxVFXT82fBjzpUEx7ktAKQVegcnFm\",\n",
      "            \"Background\": \"Space\",\n",
      "            \"Bear\": \"Teddy Bear\",\n",
      "            \"Clothes\": \"Ninja Suit\",\n",
      "            \"Face\": \"Emotionless\",\n",
      "            \"Handheld\": \"Singer Microphone\",\n",
      "            \"Head\": \"Wizard Hat\",\n",
      "            \"Skins\": \"Zombie\",\n",
      "            \"Trait Count\": \"7\",\n",
      "            \"encodedName\": \"54656464794265617273436c756231343534\",\n",
      "            \"buildType\": \"robot\",\n",
      "            \"rarityScore\": \"284\",\n",
      "            \"rarityRank\": \"8\",\n",
      "            \"prices\": {},\n",
      "            \"listingDate\": \"x\",\n",
      "            \"ownerStakeKey\": \"stake1u9dtjquwfl5q9lm9gepa4yfd9kl0r36daklpkj7uspukm0sh8gvdq\"\n",
      "        };\n",
      " {\n",
      "            \"assetName\": \"TeddyBearsClub8906\",\n",
      "            \"assetID\": \"8906\",\n",
      "            \"name\": \"Teddy Bears Club #8906\",\n",
      "            \"price\": \"x\",\n",
      "            \"cnftID\": \"x\",\n",
      "            \"iconurl\": \"QmSkLXa7ejSyt726WzTJNWz1b53ARRooRiAZECfnLnGLqi\",\n",
      "            \"url\": \"QmSkLXa7ejSyt726WzTJNWz1b53ARRooRiAZECfnLnGLqi\",\n",
      "            \"Background\": \"Space\",\n",
      "            \"Bear\": \"Teddy Bear\",\n",
      "            \"Clothes\": \"Ninja Suit\",\n",
      "            \"Face\": \"Flirty\",\n",
      "            \"Handheld\": \"Ninja Star\",\n",
      "            \"Head\": \"Fancy Sunglasses\",\n",
      "            \"Skins\": \"Zombie\",\n",
      "            \"Trait Count\": \"7\",\n",
      "            \"encodedName\": \"54656464794265617273436c756238393036\",\n",
      "            \"buildType\": \"robot\",\n",
      "            \"rarityScore\": \"278\",\n",
      "            \"rarityRank\": \"9\",\n",
      "            \"prices\": {},\n",
      "            \"listingDate\": \"x\",\n",
      "            \"ownerStakeKey\": \"stake1u80r3t84wehnkdcdr7uvzhyyjur0ukcv99cnw3hhw28dxqcw7l86r\"\n",
      "        };\n",
      " {\n",
      "            \"assetName\": \"TeddyBearsClub5666\",\n",
      "            \"assetID\": \"5666\",\n",
      "            \"name\": \"Teddy Bears Club #5666\",\n",
      "            \"price\": \"x\",\n",
      "            \"cnftID\": \"x\",\n",
      "            \"iconurl\": \"QmbuS64E2NQe2FRw7qQfTEPo7AF8WN4YViiwUaf4Cr3VUn\",\n",
      "            \"url\": \"QmbuS64E2NQe2FRw7qQfTEPo7AF8WN4YViiwUaf4Cr3VUn\",\n",
      "            \"Background\": \"Space\",\n",
      "            \"Bear\": \"Teddy Bear\",\n",
      "            \"Clothes\": \"Beach Tank Top\",\n",
      "            \"Face\": \"Nervous\",\n",
      "            \"Handheld\": \"Fishing Rod\",\n",
      "            \"Head\": \"Green Dino Hood\",\n",
      "            \"Skins\": \"Zombie\",\n",
      "            \"Trait Count\": \"7\",\n",
      "            \"encodedName\": \"54656464794265617273436c756235363636\",\n",
      "            \"buildType\": \"robot\",\n",
      "            \"rarityScore\": \"274\",\n",
      "            \"rarityRank\": \"10\",\n",
      "            \"prices\": {},\n",
      "            \"listingDate\": \"x\",\n",
      "            \"ownerStakeKey\": \"stake1uywkkc8fdzvwsmcmru4j8kxjh970cd2zf8j9t9cq4fp8huq3jjfuv\"\n",
      "        }]\n"
     ]
    }
   ],
   "source": [
    "//Will take a bit of time for the 10 elements to fill up - around 20 secs\n",
    "let firstTen = nftRound2Data |> Seq.take 10 |> Seq.toList\n",
    "printfn \"%A\" firstTen"
   ]
  },
  {
   "cell_type": "code",
   "execution_count": null,
   "metadata": {
    "dotnet_interactive": {
     "language": "fsharp"
    },
    "polyglot_notebook": {
     "kernelName": "fsharp"
    },
    "vscode": {
     "languageId": "polyglot-notebook"
    }
   },
   "outputs": [],
   "source": [
    "//Getting the information regarding trait counts\n",
    "open System.Text.Json\n",
    "\n",
    "type NFTTraits = {\n",
    "    Background: Map<string, int>\n",
    "    Bear: Map<string, int>\n",
    "    Clothes: Map<string, int>\n",
    "    Face: Map<string, int>\n",
    "    Handheld: Map<string, int>\n",
    "    Head: Map<string, int>\n",
    "    Skins: Map<string, int>\n",
    "    TraitCount: Map<string, int>\n",
    "}\n",
    "\n",
    "let loadNFTs (filePath: string) =\n",
    "    let jsonContent = File.ReadAllText(filePath)\n",
    "    JsonSerializer.Deserialize<NFTTraits list>(jsonContent)\n",
    "    \n",
    "let nftRound1Data = loadNFTs \"./JsonScraper/NFT1Traits.json\"\n",
    "let nftRound2Data = loadNFTs \"./JsonScraper/NFT2Traits.json\"\n",
    "let nftRound1Traits = List.head nftRound1Data\n",
    "let nftRound2Traits = List.head nftRound2Data\n"
   ]
  },
  {
   "cell_type": "code",
   "execution_count": null,
   "metadata": {
    "dotnet_interactive": {
     "language": "fsharp"
    },
    "polyglot_notebook": {
     "kernelName": "fsharp"
    },
    "vscode": {
     "languageId": "polyglot-notebook"
    }
   },
   "outputs": [],
   "source": [
    "//Score NFT Round 1 and 2 Traits - with larger values for rarer traits\n",
    "open FSharp.Reflection\n",
    "let r1TotalNfts = 804.0\n",
    "let r2TotalNfts = 2035.0\n",
    "\n",
    "let processNFTTraits (nftTraits: NFTTraits) totalNfts =\n",
    "    // Use FSharp.Reflection to get all the fields in the record dynamically\n",
    "    let recordType = typeof<NFTTraits>\n",
    "    let allTraitScores = \n",
    "        FSharp.Reflection.FSharpType.GetRecordFields(recordType)\n",
    "        |> Array.map (fun field ->\n",
    "            let fieldValue = field.GetValue(nftTraits) :?> Map<string, int>\n",
    "\n",
    "            let traitScores = \n",
    "                fieldValue |> Map.map (fun key value ->\n",
    "                    Math.Round(100.0 - (float value / float totalNfts) * 100.0, 2) \n",
    "                )\n",
    "\n",
    "            (field.Name, traitScores)\n",
    "        )\n",
    "    allTraitScores\n",
    "\n",
    "let r1ScoredTraits = processNFTTraits nftRound1Traits r1TotalNfts\n",
    "let r2ScoredTraits = processNFTTraits nftRound2Traits r2TotalNfts"
   ]
  },
  {
   "cell_type": "code",
   "execution_count": 113,
   "metadata": {
    "dotnet_interactive": {
     "language": "fsharp"
    },
    "polyglot_notebook": {
     "kernelName": "fsharp"
    },
    "vscode": {
     "languageId": "polyglot-notebook"
    }
   },
   "outputs": [
    {
     "data": {
      "text/html": [
       "<details open=\"open\" class=\"dni-treeview\"><summary><span class=\"dni-code-hint\"><code>{ Round1 = map [(&quot;Total&quot;, 804)]\\n  Round2 = map [(&quot;Total&quot;, 2034)] }</code></span></summary><div><table><thead><tr></tr></thead><tbody><tr><td>Round1</td><td><table><thead><tr><th><i>key</i></th><th>value</th></tr></thead><tbody><tr><td><div class=\"dni-plaintext\"><pre>Total</pre></div></td><td><div class=\"dni-plaintext\"><pre>804</pre></div></td></tr></tbody></table></td></tr><tr><td>Round2</td><td><table><thead><tr><th><i>key</i></th><th>value</th></tr></thead><tbody><tr><td><div class=\"dni-plaintext\"><pre>Total</pre></div></td><td><div class=\"dni-plaintext\"><pre>2034</pre></div></td></tr></tbody></table></td></tr></tbody></table></div></details><style>\r\n",
       ".dni-code-hint {\r\n",
       "    font-style: italic;\r\n",
       "    overflow: hidden;\r\n",
       "    white-space: nowrap;\r\n",
       "}\r\n",
       ".dni-treeview {\r\n",
       "    white-space: nowrap;\r\n",
       "}\r\n",
       ".dni-treeview td {\r\n",
       "    vertical-align: top;\r\n",
       "    text-align: start;\r\n",
       "}\r\n",
       "details.dni-treeview {\r\n",
       "    padding-left: 1em;\r\n",
       "}\r\n",
       "table td {\r\n",
       "    text-align: start;\r\n",
       "}\r\n",
       "table tr { \r\n",
       "    vertical-align: top; \r\n",
       "    margin: 0em 0px;\r\n",
       "}\r\n",
       "table tr td pre \r\n",
       "{ \r\n",
       "    vertical-align: top !important; \r\n",
       "    margin: 0em 0px !important;\r\n",
       "} \r\n",
       "table th {\r\n",
       "    text-align: start;\r\n",
       "}\r\n",
       "</style>"
      ]
     },
     "metadata": {},
     "output_type": "display_data"
    }
   ],
   "source": [
    "type nftTotals = { \n",
    "    Round1: Map<string, int> \n",
    "    Round2: Map<string, int> \n",
    "    }\n",
    "\n",
    "let nftTotalsList = [\n",
    "    { Round1 = Map.ofList [(\"Total\", 804)]; \n",
    "    Round2 = Map.ofList [(\"Total\", 2034)] }\n",
    "]\n",
    "\n",
    "nftTotalsList.[0]\n"
   ]
  },
  {
   "cell_type": "code",
   "execution_count": 99,
   "metadata": {
    "dotnet_interactive": {
     "language": "fsharp"
    },
    "polyglot_notebook": {
     "kernelName": "fsharp"
    },
    "vscode": {
     "languageId": "polyglot-notebook"
    }
   },
   "outputs": [
    {
     "data": {
      "text/html": [
       "<details open=\"open\" class=\"dni-treeview\"><summary><span class=\"dni-code-hint\"><code>(Background, map [(Aqua, 84.42); (Bamboo Forest, 85.31); (Beach, 86.98); ... ])</code></span></summary><div><table><thead><tr></tr></thead><tbody><tr><td>Item1</td><td><div class=\"dni-plaintext\"><pre>Background</pre></div></td></tr><tr><td>Item2</td><td><table><thead><tr><th><i>key</i></th><th>value</th></tr></thead><tbody><tr><td><div class=\"dni-plaintext\"><pre>Aqua</pre></div></td><td><div class=\"dni-plaintext\"><pre>84.42</pre></div></td></tr><tr><td><div class=\"dni-plaintext\"><pre>Bamboo Forest</pre></div></td><td><div class=\"dni-plaintext\"><pre>85.31</pre></div></td></tr><tr><td><div class=\"dni-plaintext\"><pre>Beach</pre></div></td><td><div class=\"dni-plaintext\"><pre>86.98</pre></div></td></tr><tr><td><div class=\"dni-plaintext\"><pre>Lighthouse</pre></div></td><td><div class=\"dni-plaintext\"><pre>91.2</pre></div></td></tr><tr><td><div class=\"dni-plaintext\"><pre>Pink Evening</pre></div></td><td><div class=\"dni-plaintext\"><pre>86.63</pre></div></td></tr><tr><td><div class=\"dni-plaintext\"><pre>Room</pre></div></td><td><div class=\"dni-plaintext\"><pre>83.49</pre></div></td></tr><tr><td><div class=\"dni-plaintext\"><pre>Space</pre></div></td><td><div class=\"dni-plaintext\"><pre>93.61</pre></div></td></tr><tr><td><div class=\"dni-plaintext\"><pre>Sunflowers</pre></div></td><td><div class=\"dni-plaintext\"><pre>88.35</pre></div></td></tr></tbody></table></td></tr></tbody></table></div></details><style>\r\n",
       ".dni-code-hint {\r\n",
       "    font-style: italic;\r\n",
       "    overflow: hidden;\r\n",
       "    white-space: nowrap;\r\n",
       "}\r\n",
       ".dni-treeview {\r\n",
       "    white-space: nowrap;\r\n",
       "}\r\n",
       ".dni-treeview td {\r\n",
       "    vertical-align: top;\r\n",
       "    text-align: start;\r\n",
       "}\r\n",
       "details.dni-treeview {\r\n",
       "    padding-left: 1em;\r\n",
       "}\r\n",
       "table td {\r\n",
       "    text-align: start;\r\n",
       "}\r\n",
       "table tr { \r\n",
       "    vertical-align: top; \r\n",
       "    margin: 0em 0px;\r\n",
       "}\r\n",
       "table tr td pre \r\n",
       "{ \r\n",
       "    vertical-align: top !important; \r\n",
       "    margin: 0em 0px !important;\r\n",
       "} \r\n",
       "table th {\r\n",
       "    text-align: start;\r\n",
       "}\r\n",
       "</style>"
      ]
     },
     "metadata": {},
     "output_type": "display_data"
    }
   ],
   "source": [
    "r2ScoredTraits.[0]"
   ]
  },
  {
   "cell_type": "code",
   "execution_count": 63,
   "metadata": {
    "dotnet_interactive": {
     "language": "fsharp"
    },
    "polyglot_notebook": {
     "kernelName": "fsharp"
    },
    "vscode": {
     "languageId": "polyglot-notebook"
    }
   },
   "outputs": [
    {
     "data": {
      "text/html": [
       "<details open=\"open\" class=\"dni-treeview\"><summary><span class=\"dni-code-hint\"><code>(Bear, map [(Black Bear, 89.04); (Gold Bear, 99.36); (Panda Bear, 85.65); ... ])</code></span></summary><div><table><thead><tr></tr></thead><tbody><tr><td>Item1</td><td><div class=\"dni-plaintext\"><pre>Bear</pre></div></td></tr><tr><td>Item2</td><td><table><thead><tr><th><i>key</i></th><th>value</th></tr></thead><tbody><tr><td><div class=\"dni-plaintext\"><pre>Black Bear</pre></div></td><td><div class=\"dni-plaintext\"><pre>89.04</pre></div></td></tr><tr><td><div class=\"dni-plaintext\"><pre>Gold Bear</pre></div></td><td><div class=\"dni-plaintext\"><pre>99.36</pre></div></td></tr><tr><td><div class=\"dni-plaintext\"><pre>Panda Bear</pre></div></td><td><div class=\"dni-plaintext\"><pre>85.65</pre></div></td></tr><tr><td><div class=\"dni-plaintext\"><pre>Pink Bear</pre></div></td><td><div class=\"dni-plaintext\"><pre>81.67</pre></div></td></tr><tr><td><div class=\"dni-plaintext\"><pre>Polar Bear</pre></div></td><td><div class=\"dni-plaintext\"><pre>83.05</pre></div></td></tr><tr><td><div class=\"dni-plaintext\"><pre>Red Panda</pre></div></td><td><div class=\"dni-plaintext\"><pre>84.23</pre></div></td></tr><tr><td><div class=\"dni-plaintext\"><pre>Teddy Bear</pre></div></td><td><div class=\"dni-plaintext\"><pre>77</pre></div></td></tr></tbody></table></td></tr></tbody></table></div></details><style>\r\n",
       ".dni-code-hint {\r\n",
       "    font-style: italic;\r\n",
       "    overflow: hidden;\r\n",
       "    white-space: nowrap;\r\n",
       "}\r\n",
       ".dni-treeview {\r\n",
       "    white-space: nowrap;\r\n",
       "}\r\n",
       ".dni-treeview td {\r\n",
       "    vertical-align: top;\r\n",
       "    text-align: start;\r\n",
       "}\r\n",
       "details.dni-treeview {\r\n",
       "    padding-left: 1em;\r\n",
       "}\r\n",
       "table td {\r\n",
       "    text-align: start;\r\n",
       "}\r\n",
       "table tr { \r\n",
       "    vertical-align: top; \r\n",
       "    margin: 0em 0px;\r\n",
       "}\r\n",
       "table tr td pre \r\n",
       "{ \r\n",
       "    vertical-align: top !important; \r\n",
       "    margin: 0em 0px !important;\r\n",
       "} \r\n",
       "table th {\r\n",
       "    text-align: start;\r\n",
       "}\r\n",
       "</style>"
      ]
     },
     "metadata": {},
     "output_type": "display_data"
    }
   ],
   "source": [
    "r2ScoredTraits.[1]"
   ]
  },
  {
   "cell_type": "code",
   "execution_count": 89,
   "metadata": {
    "dotnet_interactive": {
     "language": "fsharp"
    },
    "polyglot_notebook": {
     "kernelName": "fsharp"
    },
    "vscode": {
     "languageId": "polyglot-notebook"
    }
   },
   "outputs": [
    {
     "name": "stdout",
     "output_type": "stream",
     "text": [
      "Clothes:\n",
      "Angel Dress: 98.770000\n",
      "Archaeologist T-shirt: 98.130000\n",
      "Balloons: 99.850000\n",
      "Banana Suit: 99.850000\n",
      "Basketball  Jersey: 98.770000\n",
      "Beach Tank Top: 97.940000\n",
      "Black Denim Jacket: 98.130000\n",
      "Black Official Suit: 98.180000\n",
      "Black Official Vest: 98.030000\n",
      "Blue Baseball Shirt: 98.720000\n",
      "Blue Dino: 98.870000\n",
      "Brown Blazer: 98.530000\n",
      "Businessman Suit: 98.230000\n",
      "Chef Jacket: 98.230000\n",
      "Chewie Fur: 99.310000\n",
      "Colorful Balloons: 99.900000\n",
      "Cop Uniform: 98.570000\n",
      "Cowboy Sleeveless Shirt: 98.280000\n",
      "Diamond Kimono: 99.850000\n",
      "Firefighter Jacket: 98.770000\n",
      "Fisherman Clothes: 98.430000\n",
      "Flowers Shirt: 98.380000\n",
      "Full Space Suit: 99.660000\n",
      "Goku T-shirt: 99.510000\n",
      "Gold Medal: 99.660000\n",
      "Golden Pajamas: 98.180000\n",
      "Gorilla Suit: 99.460000\n",
      "Graffiti Jacket: 98.570000\n",
      "Green Dino: 98.920000\n",
      "Green T-shirt: 98.230000\n",
      "Grey Suit: 98.230000\n",
      "Harvard Shirt: 98.480000\n",
      "Hero Uniform: 98.380000\n",
      "Hot Dog: 99.950000\n",
      "Inflatable: 98.380000\n",
      "Jokester: 98.330000\n",
      "King Cloak: 99.610000\n",
      "Leia's Dress: 98.130000\n",
      "Medical Scrubs: 98.130000\n",
      "Military Uniform: 98.380000\n",
      "Mime T-shirt: 98.330000\n",
      "Mummy Clothes: 98.530000\n",
      "Navy Uniform: 98.430000\n",
      "Ninja Suit: 97.990000\n",
      "Pilot Jacket: 98.570000\n",
      "Pilot Uniform: 98.920000\n",
      "Pineapple Suit: 99.800000\n",
      "Pink Bow Tie: 98.920000\n",
      "Pirate T-shirt: 98.920000\n",
      "Professor Shirt: 98.430000\n",
      "Punk Jacket: 99.260000\n",
      "Rapper Bomber Jacket: 98.280000\n",
      "Red Bandana: 98.030000\n",
      "Red Devil Suit: 98.570000\n",
      "Red Devil T-shirt: 98.280000\n",
      "Red Pajamas: 98.720000\n",
      "Red Sweater: 98.770000\n",
      "Red T-shirt: 98.530000\n",
      "Relaxing Robe: 98.620000\n",
      "Royal Cloak: 99.750000\n",
      "Santa's Coat: 98.770000\n",
      "Scout Uniform: 98.720000\n",
      "Skeleton Body: 99.260000\n",
      "Snowboarder Suit: 97.990000\n",
      "Strawberry Suit: 98.720000\n",
      "Striped T-shirt: 98.330000\n",
      "Super Teddy: 98.180000\n",
      "Super Teddy Overalls: 98.480000\n",
      "Tiger Suit: 98.670000\n",
      "Toga: 98.770000\n",
      "Training Space Suit: 99.800000\n",
      "Tuxedo: 99.020000\n",
      "Tuxedo Outfit: 99.710000\n",
      "USA T-shirt: 98.720000\n",
      "Vacation Shirt: 98.480000\n",
      "Vampire Suit: 99.120000\n",
      "Viking Suit: 98.820000\n",
      "Warrior Armor: 99.410000\n",
      "White Jacket: 98.870000\n",
      "White Space Suit: 99.610000\n",
      "Witch Dress: 98.970000\n"
     ]
    }
   ],
   "source": [
    "\n",
    "let thirdElement = r2ScoredTraits.[2]\n",
    "let thirdtitle = fst thirdElement\n",
    "printfn \"%s:\" thirdtitle\n",
    "let thirdMap = snd thirdElement\n",
    "thirdMap |> Map.iter (fun key value ->\n",
    "    printfn \"%s: %f\" key value\n",
    ")\n"
   ]
  },
  {
   "cell_type": "code",
   "execution_count": 90,
   "metadata": {
    "dotnet_interactive": {
     "language": "fsharp"
    },
    "polyglot_notebook": {
     "kernelName": "fsharp"
    },
    "vscode": {
     "languageId": "polyglot-notebook"
    }
   },
   "outputs": [
    {
     "name": "stdout",
     "output_type": "stream",
     "text": [
      "Face:\n",
      "Confident: 92.630000\n",
      "Dead: 95.430000\n",
      "Emotionless: 95.530000\n",
      "Expressionless: 91.250000\n",
      "Fake Mustache : 94.350000\n",
      "Flirty: 92.680000\n",
      "Happy: 91.250000\n",
      "In Love: 92.480000\n",
      "Kissing: 95.680000\n",
      "Mad: 94.740000\n",
      "Nervous: 95.580000\n",
      "Neutral: 96.460000\n",
      "Painful Smile: 96.950000\n",
      "Playful: 95.140000\n",
      "Sleepy: 96.170000\n",
      "Wink 1: 99.850000\n",
      "Wink 2: 95.870000\n",
      "Zipped: 95.920000\n",
      "unamused: 96.020000\n",
      "wink: 96.070000\n",
      "wink 2: 99.950000\n"
     ]
    }
   ],
   "source": [
    "\n",
    "let thirdElement = r2ScoredTraits.[3]\n",
    "let thirdtitle = fst thirdElement\n",
    "printfn \"%s:\" thirdtitle\n",
    "let thirdMap = snd thirdElement\n",
    "thirdMap |> Map.iter (fun key value ->\n",
    "    printfn \"%s: %f\" key value\n",
    ")\n"
   ]
  },
  {
   "cell_type": "code",
   "execution_count": 66,
   "metadata": {
    "dotnet_interactive": {
     "language": "fsharp"
    },
    "polyglot_notebook": {
     "kernelName": "fsharp"
    },
    "vscode": {
     "languageId": "polyglot-notebook"
    }
   },
   "outputs": [
    {
     "data": {
      "text/html": [
       "<details open=\"open\" class=\"dni-treeview\"><summary><span class=\"dni-code-hint\"><code>(Handheld, map [(Black Devil Trident, 97.1); (Broom, 95.33); (Clown Lollipop, 96.66); ... ])</code></span></summary><div><table><thead><tr></tr></thead><tbody><tr><td>Item1</td><td><div class=\"dni-plaintext\"><pre>Handheld</pre></div></td></tr><tr><td>Item2</td><td><table><thead><tr><th><i>key</i></th><th>value</th></tr></thead><tbody><tr><td><div class=\"dni-plaintext\"><pre>Black Devil Trident</pre></div></td><td><div class=\"dni-plaintext\"><pre>97.1</pre></div></td></tr><tr><td><div class=\"dni-plaintext\"><pre>Broom</pre></div></td><td><div class=\"dni-plaintext\"><pre>95.33</pre></div></td></tr><tr><td><div class=\"dni-plaintext\"><pre>Clown Lollipop</pre></div></td><td><div class=\"dni-plaintext\"><pre>96.66</pre></div></td></tr><tr><td><div class=\"dni-plaintext\"><pre>Fishing Rod</pre></div></td><td><div class=\"dni-plaintext\"><pre>97.44</pre></div></td></tr><tr><td><div class=\"dni-plaintext\"><pre>Graffiti Spray</pre></div></td><td><div class=\"dni-plaintext\"><pre>95.14</pre></div></td></tr><tr><td><div class=\"dni-plaintext\"><pre>Honey</pre></div></td><td><div class=\"dni-plaintext\"><pre>99.85</pre></div></td></tr><tr><td><div class=\"dni-plaintext\"><pre>Honey Pot</pre></div></td><td><div class=\"dni-plaintext\"><pre>91.11</pre></div></td></tr><tr><td><div class=\"dni-plaintext\"><pre>King Staff</pre></div></td><td><div class=\"dni-plaintext\"><pre>98.38</pre></div></td></tr><tr><td><div class=\"dni-plaintext\"><pre>Ninja Star</pre></div></td><td><div class=\"dni-plaintext\"><pre>97.44</pre></div></td></tr><tr><td><div class=\"dni-plaintext\"><pre>None</pre></div></td><td><div class=\"dni-plaintext\"><pre>66.54</pre></div></td></tr><tr><td><div class=\"dni-plaintext\"><pre>Pirate sword</pre></div></td><td><div class=\"dni-plaintext\"><pre>95.58</pre></div></td></tr><tr><td><div class=\"dni-plaintext\"><pre>Red Devil Trident</pre></div></td><td><div class=\"dni-plaintext\"><pre>97.59</pre></div></td></tr><tr><td><div class=\"dni-plaintext\"><pre>Robe</pre></div></td><td><div class=\"dni-plaintext\"><pre>93.22</pre></div></td></tr><tr><td><div class=\"dni-plaintext\"><pre>Shovel</pre></div></td><td><div class=\"dni-plaintext\"><pre>94.59</pre></div></td></tr><tr><td><div class=\"dni-plaintext\"><pre>Singer Microphone</pre></div></td><td><div class=\"dni-plaintext\"><pre>96.9</pre></div></td></tr><tr><td><div class=\"dni-plaintext\"><pre>Snowboard</pre></div></td><td><div class=\"dni-plaintext\"><pre>95.82</pre></div></td></tr><tr><td><div class=\"dni-plaintext\"><pre>Strawberry</pre></div></td><td><div class=\"dni-plaintext\"><pre>95.48</pre></div></td></tr><tr><td><div class=\"dni-plaintext\"><pre>Sword</pre></div></td><td><div class=\"dni-plaintext\"><pre>95.82</pre></div></td></tr></tbody></table></td></tr></tbody></table></div></details><style>\r\n",
       ".dni-code-hint {\r\n",
       "    font-style: italic;\r\n",
       "    overflow: hidden;\r\n",
       "    white-space: nowrap;\r\n",
       "}\r\n",
       ".dni-treeview {\r\n",
       "    white-space: nowrap;\r\n",
       "}\r\n",
       ".dni-treeview td {\r\n",
       "    vertical-align: top;\r\n",
       "    text-align: start;\r\n",
       "}\r\n",
       "details.dni-treeview {\r\n",
       "    padding-left: 1em;\r\n",
       "}\r\n",
       "table td {\r\n",
       "    text-align: start;\r\n",
       "}\r\n",
       "table tr { \r\n",
       "    vertical-align: top; \r\n",
       "    margin: 0em 0px;\r\n",
       "}\r\n",
       "table tr td pre \r\n",
       "{ \r\n",
       "    vertical-align: top !important; \r\n",
       "    margin: 0em 0px !important;\r\n",
       "} \r\n",
       "table th {\r\n",
       "    text-align: start;\r\n",
       "}\r\n",
       "</style>"
      ]
     },
     "metadata": {},
     "output_type": "display_data"
    }
   ],
   "source": [
    "r2ScoredTraits.[4]"
   ]
  },
  {
   "cell_type": "code",
   "execution_count": 91,
   "metadata": {
    "dotnet_interactive": {
     "language": "fsharp"
    },
    "polyglot_notebook": {
     "kernelName": "fsharp"
    },
    "vscode": {
     "languageId": "polyglot-notebook"
    }
   },
   "outputs": [
    {
     "name": "stdout",
     "output_type": "stream",
     "text": [
      "Head:\n",
      "Archaeologist Hat: 98.230000\n",
      "Arrow: 98.480000\n",
      "Black Mask: 98.480000\n",
      "Black Red Hat: 97.490000\n",
      "Black Round Hat: 98.180000\n",
      "Black Square Hat: 98.130000\n",
      "Blue Dino Hood: 98.720000\n",
      "Blue Panama: 98.380000\n",
      "Bubbles: 98.820000\n",
      "Chef Hat: 97.690000\n",
      "Cop Hat: 98.480000\n",
      "Crown: 99.800000\n",
      "Fancy Sunglasses: 99.120000\n",
      "Firefighter Hat: 98.620000\n",
      "Firefighter Helmet: 97.940000\n",
      "Fisherman Panama: 98.130000\n",
      "Goku Hair: 98.330000\n",
      "Gorilla Head: 98.130000\n",
      "Green Dino Hood: 98.430000\n",
      "Halo: 99.560000\n",
      "Helmet With Water: 99.850000\n",
      "Hero Mask: 97.940000\n",
      "Hussar Hat: 97.940000\n",
      "Ice Cream: 97.990000\n",
      "Jokester Hat: 97.640000\n",
      "Leia Hair: 98.620000\n",
      "Medical Hat: 98.430000\n",
      "Military Helmet: 98.670000\n",
      "Mime Hat: 98.030000\n",
      "Mohawk: 97.940000\n",
      "Monocle: 99.800000\n",
      "Navy Cap: 97.990000\n",
      "None: 90.960000\n",
      "Pilot Hat: 98.430000\n",
      "Pirate: 98.620000\n",
      "Pirate Bandana: 98.430000\n",
      "Pirate Eyepatch: 97.990000\n",
      "Rapper Cap: 97.840000\n",
      "Red Devil: 98.530000\n",
      "Red Devil Horns: 97.940000\n",
      "Relaxing Cucumber Eyes: 98.080000\n",
      "Santa Hat: 98.230000\n",
      "Scout Glases: 97.690000\n",
      "Scout Hat: 98.180000\n",
      "Scouter: 98.180000\n",
      "Smokey Hat: 97.890000\n",
      "Sombrero: 98.180000\n",
      "Spa Day: 98.670000\n",
      "Spa Towel: 98.080000\n",
      "Space Helmet: 99.850000\n",
      "Strawberry: 98.280000\n",
      "Sunglasses: 97.940000\n",
      "Super Teddy Hat: 99.710000\n",
      "Teddy Roosevelt: 98.380000\n",
      "Tiger Head: 98.380000\n",
      "Vampire Hair: 98.180000\n",
      "Viking Helm: 99.750000\n",
      "Witch Hat: 98.280000\n",
      "Wizard Hat: 99.360000\n"
     ]
    }
   ],
   "source": [
    "\n",
    "let thirdElement = r2ScoredTraits.[5]\n",
    "let thirdtitle = fst thirdElement\n",
    "printfn \"%s:\" thirdtitle\n",
    "let thirdMap = snd thirdElement\n",
    "thirdMap |> Map.iter (fun key value ->\n",
    "    printfn \"%s: %f\" key value\n",
    ")\n"
   ]
  },
  {
   "cell_type": "code",
   "execution_count": 68,
   "metadata": {
    "dotnet_interactive": {
     "language": "fsharp"
    },
    "polyglot_notebook": {
     "kernelName": "fsharp"
    },
    "vscode": {
     "languageId": "polyglot-notebook"
    }
   },
   "outputs": [
    {
     "data": {
      "text/html": [
       "<details open=\"open\" class=\"dni-treeview\"><summary><span class=\"dni-code-hint\"><code>(Skins, map [(None, 3.93); (Raggedy Bear, 97.84); (Zombie, 98.23)])</code></span></summary><div><table><thead><tr></tr></thead><tbody><tr><td>Item1</td><td><div class=\"dni-plaintext\"><pre>Skins</pre></div></td></tr><tr><td>Item2</td><td><table><thead><tr><th><i>key</i></th><th>value</th></tr></thead><tbody><tr><td><div class=\"dni-plaintext\"><pre>None</pre></div></td><td><div class=\"dni-plaintext\"><pre>3.93</pre></div></td></tr><tr><td><div class=\"dni-plaintext\"><pre>Raggedy Bear</pre></div></td><td><div class=\"dni-plaintext\"><pre>97.84</pre></div></td></tr><tr><td><div class=\"dni-plaintext\"><pre>Zombie</pre></div></td><td><div class=\"dni-plaintext\"><pre>98.23</pre></div></td></tr></tbody></table></td></tr></tbody></table></div></details><style>\r\n",
       ".dni-code-hint {\r\n",
       "    font-style: italic;\r\n",
       "    overflow: hidden;\r\n",
       "    white-space: nowrap;\r\n",
       "}\r\n",
       ".dni-treeview {\r\n",
       "    white-space: nowrap;\r\n",
       "}\r\n",
       ".dni-treeview td {\r\n",
       "    vertical-align: top;\r\n",
       "    text-align: start;\r\n",
       "}\r\n",
       "details.dni-treeview {\r\n",
       "    padding-left: 1em;\r\n",
       "}\r\n",
       "table td {\r\n",
       "    text-align: start;\r\n",
       "}\r\n",
       "table tr { \r\n",
       "    vertical-align: top; \r\n",
       "    margin: 0em 0px;\r\n",
       "}\r\n",
       "table tr td pre \r\n",
       "{ \r\n",
       "    vertical-align: top !important; \r\n",
       "    margin: 0em 0px !important;\r\n",
       "} \r\n",
       "table th {\r\n",
       "    text-align: start;\r\n",
       "}\r\n",
       "</style>"
      ]
     },
     "metadata": {},
     "output_type": "display_data"
    }
   ],
   "source": [
    "r2ScoredTraits.[6]"
   ]
  },
  {
   "cell_type": "code",
   "execution_count": 69,
   "metadata": {
    "dotnet_interactive": {
     "language": "fsharp"
    },
    "polyglot_notebook": {
     "kernelName": "fsharp"
    },
    "vscode": {
     "languageId": "polyglot-notebook"
    }
   },
   "outputs": [
    {
     "data": {
      "text/html": [
       "<details open=\"open\" class=\"dni-treeview\"><summary><span class=\"dni-code-hint\"><code>(TraitCount, map [(4, 94.05); (5, 70.17); (6, 38.92); ... ])</code></span></summary><div><table><thead><tr></tr></thead><tbody><tr><td>Item1</td><td><div class=\"dni-plaintext\"><pre>TraitCount</pre></div></td></tr><tr><td>Item2</td><td><table><thead><tr><th><i>key</i></th><th>value</th></tr></thead><tbody><tr><td><div class=\"dni-plaintext\"><pre>4</pre></div></td><td><div class=\"dni-plaintext\"><pre>94.05</pre></div></td></tr><tr><td><div class=\"dni-plaintext\"><pre>5</pre></div></td><td><div class=\"dni-plaintext\"><pre>70.17</pre></div></td></tr><tr><td><div class=\"dni-plaintext\"><pre>6</pre></div></td><td><div class=\"dni-plaintext\"><pre>38.92</pre></div></td></tr><tr><td><div class=\"dni-plaintext\"><pre>7</pre></div></td><td><div class=\"dni-plaintext\"><pre>96.86</pre></div></td></tr></tbody></table></td></tr></tbody></table></div></details><style>\r\n",
       ".dni-code-hint {\r\n",
       "    font-style: italic;\r\n",
       "    overflow: hidden;\r\n",
       "    white-space: nowrap;\r\n",
       "}\r\n",
       ".dni-treeview {\r\n",
       "    white-space: nowrap;\r\n",
       "}\r\n",
       ".dni-treeview td {\r\n",
       "    vertical-align: top;\r\n",
       "    text-align: start;\r\n",
       "}\r\n",
       "details.dni-treeview {\r\n",
       "    padding-left: 1em;\r\n",
       "}\r\n",
       "table td {\r\n",
       "    text-align: start;\r\n",
       "}\r\n",
       "table tr { \r\n",
       "    vertical-align: top; \r\n",
       "    margin: 0em 0px;\r\n",
       "}\r\n",
       "table tr td pre \r\n",
       "{ \r\n",
       "    vertical-align: top !important; \r\n",
       "    margin: 0em 0px !important;\r\n",
       "} \r\n",
       "table th {\r\n",
       "    text-align: start;\r\n",
       "}\r\n",
       "</style>"
      ]
     },
     "metadata": {},
     "output_type": "display_data"
    }
   ],
   "source": [
    "r2ScoredTraits.[7]"
   ]
  },
  {
   "cell_type": "code",
   "execution_count": null,
   "metadata": {
    "dotnet_interactive": {
     "language": "fsharp"
    },
    "polyglot_notebook": {
     "kernelName": "fsharp"
    },
    "vscode": {
     "languageId": "polyglot-notebook"
    }
   },
   "outputs": [],
   "source": [
    "//Create code to compute the rank of a given subject\n",
    "//Code to calculate rewards for each subject\n",
    "//Merge together the list of Round 1 and 2 NFTs, so that its just one db/csv of all the subjects\n",
    "// and correspondingrewards"
   ]
  },
  {
   "cell_type": "code",
   "execution_count": 76,
   "metadata": {
    "dotnet_interactive": {
     "language": "fsharp"
    },
    "polyglot_notebook": {
     "kernelName": "fsharp"
    },
    "vscode": {
     "languageId": "polyglot-notebook"
    }
   },
   "outputs": [],
   "source": [
    "//Code to calculate Marketcap Adjustment to 8,000,000 supply\n",
    "\n",
    "let sumValues (rewardsList: (string * float) list) =\n",
    "    rewardsList |> List.sumBy (fun (_, value) -> value)\n",
    "\n",
    "let marketcapAdjustment rewards = \n",
    "    let finalReward = (rewards*8000000)/10000000\n",
    "    finalReward\n"
   ]
  }
 ],
 "metadata": {
  "kernelspec": {
   "display_name": ".NET (C#)",
   "language": "C#",
   "name": ".net-csharp"
  },
  "language_info": {
   "name": "csharp"
  },
  "polyglot_notebook": {
   "kernelInfo": {
    "defaultKernelName": "csharp",
    "items": [
     {
      "aliases": [],
      "name": "csharp"
     }
    ]
   }
  }
 },
 "nbformat": 4,
 "nbformat_minor": 2
}
