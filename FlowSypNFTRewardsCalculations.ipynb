{
 "cells": [
  {
   "cell_type": "code",
   "execution_count": 9,
   "metadata": {
    "dotnet_interactive": {
     "language": "fsharp"
    },
    "polyglot_notebook": {
     "kernelName": "fsharp"
    },
    "vscode": {
     "languageId": "polyglot-notebook"
    }
   },
   "outputs": [],
   "source": [
    "//Retrieve json data for asset name and rank for NFTs Round 1 and 2\n",
    "open System.Text.Json\n",
    "\n",
    "type NFTMinimal = {\n",
    "    encodedName: string\n",
    "    rarityRank: string\n",
    "}\n",
    "\n",
    "let loadNFTs (filePath: string) =\n",
    "    let jsonContent = File.ReadAllText(filePath)\n",
    "    jsonContent\n",
    "    let nftList = JsonSerializer.Deserialize<NFTMinimal list>(jsonContent)\n",
    "    nftList\n",
    "\n",
    "let nftRound1Data = loadNFTs \"./NFTR1.json\"\n",
    "let nftRound2Data = loadNFTs \"./NFTR2.json\""
   ]
  },
  {
   "cell_type": "code",
   "execution_count": null,
   "metadata": {
    "dotnet_interactive": {
     "language": "csharp"
    },
    "polyglot_notebook": {
     "kernelName": "csharp"
    },
    "vscode": {
     "languageId": "polyglot-notebook"
    }
   },
   "outputs": [],
   "source": []
  }
 ],
 "metadata": {
  "kernelspec": {
   "display_name": ".NET (C#)",
   "language": "C#",
   "name": ".net-csharp"
  },
  "language_info": {
   "name": "csharp"
  },
  "polyglot_notebook": {
   "kernelInfo": {
    "defaultKernelName": "csharp",
    "items": [
     {
      "aliases": [],
      "name": "csharp"
     }
    ]
   }
  }
 },
 "nbformat": 4,
 "nbformat_minor": 2
}
