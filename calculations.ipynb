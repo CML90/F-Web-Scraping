{
 "cells": [
  {
   "cell_type": "markdown",
   "metadata": {},
   "source": [
    "# **Swyp Teddy Bear Club NFT Rating and Rewards Calculation**\n",
    "\n",
    "## **1. Overview**\n",
    "\n",
    "### **1.1 Purpose**\n",
    "This document outlines the process for calculating the rankings and rewards for the Teddy Bear Club NFTs across Round 1 and Round 2. Since the ranking and reward structures differ between the two rounds, calculations are performed separately for each round and then added to determine the total rewards, where applicable.\n",
    "\n",
    "### **1.2 NFT Information**\n",
    "Round 1:<br>\n",
    "   - Policy Id: ab182ed76b669b49ee54a37dee0d0064ad4208a859cc4fdf3f906d87 <br>\n",
    "   - Total NFTs: 804<br>\n",
    "   - Tier System:<br>\n",
    "      - Tier 1 - Rarity 1 - 15 \n",
    "      - Tier 2 - Rarity 16 - 100 \n",
    "      - Tier 3 - Rarity 101 - 250 \n",
    "      - Tier 4 - Rarity 251 - 500 \n",
    "      - Tier 5 - Rarity 501 - 804  \n",
    "      \n",
    "\n",
    "Round 2:<br>\n",
    "   - Policy Id: da3562fad43b7759f679970fb4e0ec07ab5bebe5c703043acda07a3c<br>\n",
    "   - Total NFTs: 2,035<br>\n",
    "   - Tier System:<br>\n",
    "      - Tier 1 - Rarity 1 - 23 \n",
    "      - Tier 2 - Rarity 24 - 221 \n",
    "      - Tier 3 - Rarity 222 - 664\n",
    "      - Tier 4 - Rarity 665 - 1,327 \n",
    "      - Tier 5 - Rarity 1,328 - 2,035 \n",
    "\n",
    "---\n",
    "\n",
    "### **1.3 Workflow Summary**\n",
    "The workflow is divided into the following steps:\n",
    "\n",
    "1. **Fetch Data**  \n",
    "   - Load NFT data from JSON files and rank data from the CSV file.\n",
    "\n",
    "2. **NFT Rank Calculation**  \n",
    "   2.1 Assign point values based on trait rarity.  \n",
    "   2.2 Compute overall rarity ranks for each NFT.\n",
    "\n",
    "3. **NFT Rewards Calculation**  \n",
    "   3.1 Count the number of occurrences of each NFT within its respective tier.<br>\n",
    "   3.2 Calculate the user’s percentage share across all sold NFTs.<br>\n",
    "   3.3 Determine the user’s adjusted percentage share based on the remaining available Tedy token rewards.<br>\n",
    "   3.4 Compute the total Tedy tokens using the number and rank of owned NFTs, factoring in the user’s percentage share.<br>\n",
    "   3.5 Adjust the final Tedy token rewards according to the updated market cap of 8,000,000.<br>\n",
    "   \n",
    "---\n",
    "\n",
    "### **1.4 Necessary Package Installations and Open Statements**\n"
   ]
  },
  {
   "cell_type": "code",
   "execution_count": null,
   "metadata": {
    "dotnet_interactive": {
     "language": "fsharp"
    },
    "polyglot_notebook": {
     "kernelName": "fsharp"
    },
    "vscode": {
     "languageId": "polyglot-notebook"
    }
   },
   "outputs": [],
   "source": [
    "#i \"nuget:https://pkgs.dev.azure.com/dnceng/public/_packaging/dotnet5/nuget/v3/index.json\"\n",
    "#i \"nuget:https://pkgs.dev.azure.com/dnceng/public/_packaging/dotnet-tools/nuget/v3/index.json\"\n",
    "\n",
    "#r \"nuget: Plotly.NET.Interactive, 5.0.0\""
   ]
  },
  {
   "cell_type": "code",
   "execution_count": 68,
   "metadata": {
    "dotnet_interactive": {
     "language": "fsharp"
    },
    "polyglot_notebook": {
     "kernelName": "fsharp"
    },
    "vscode": {
     "languageId": "polyglot-notebook"
    }
   },
   "outputs": [],
   "source": [
    "open System.Text.Json\n",
    "open System.IO\n",
    "open FSharp.Reflection\n",
    "open Plotly.NET\n",
    "open Plotly.NET.Interactive"
   ]
  },
  {
   "cell_type": "markdown",
   "metadata": {},
   "source": [
    "# **2. Workflow**"
   ]
  },
  {
   "cell_type": "markdown",
   "metadata": {},
   "source": [
    "## 1. Fetch Data\n",
    "The metadata for the NFTs was scraped from the web and stored in JSON files. In this section, we will parse the JSON data to extract information about the NFTs and the occurrence of their traits. This data will serve as the foundation for calculating rankings and determining rewards in the subsequent sections.\n",
    "\n",
    "---\n",
    "\n",
    "#### **Types**:\n",
    "The NFT and NFTTraits types are partial representations of the data, as only the fields relevant to ranking and reward calculations have been included.\n",
    "\n",
    "- **`NFT`**: Represents an individual NFT, including its metadata and traits.\n",
    "\n",
    "- **`NFTTraits`**: Captures occurrence counts of trait values across NFTs.\n",
    "\n",
    "#### **Function**:\n",
    "1. **`loadNFTs<'T>`**: \n",
    "- Loads and deserializes JSON data into a specified type:\n",
    "- **Parameters**: \n",
    "     - `filePath (string)`: the path to the JSON file.\n",
    "- **Returns**: \n",
    "        - Parsed data of type `'T`\n",
    "\n",
    "2. **`loadNFTRanks`**: \n",
    "- Loads and parses CSV data:\n",
    "- **Parameters**:\n",
    "    - `filePath (string)`: the path to the CSV file.\n",
    "- **Returns**:  <br>\n",
    "    - A (Map<string, int>) of NFT IDs to their ranks\n",
    "\n",
    "--- \n",
    "\n",
    "#### **Variables**:<br>\n",
    "**`nftRound1NFTS`**: <br>\n",
    "- (NFT list): NFTs from Round 1 <br>\n",
    "\n",
    " **`nftRound2NFTS`**:  <br>\n",
    "- (NFT list):  NFTs from Round 2 <br>\n",
    "\n",
    " **`nftRound1Traits`**: <br>\n",
    "- (NFTTraits): Trait counts for Round 1 <br>\n",
    "    \n",
    " **`nftRound2Traits`**:  <br>\n",
    "- (NFTTraits): Trait counts for Round 2 <br>\n",
    "\n",
    "<br>\n",
    "\n",
    "**`subjectRankData`**: \n",
    "- (Map<string, int>): Mapping of NFTs to their calculated ranks\n",
    "\n",
    "---\n",
    "### 1.1 Fetch NFT Data From JSON"
   ]
  },
  {
   "cell_type": "code",
   "execution_count": 69,
   "metadata": {
    "dotnet_interactive": {
     "language": "fsharp"
    },
    "polyglot_notebook": {
     "kernelName": "fsharp"
    },
    "vscode": {
     "languageId": "polyglot-notebook"
    }
   },
   "outputs": [],
   "source": [
    "type NFT = {\n",
    "    assetName: string\n",
    "    encodedName: string\n",
    "    Background: string\n",
    "    Bear: string\n",
    "    Clothes: string\n",
    "    Face: string\n",
    "    Handheld: string\n",
    "    Head: string\n",
    "    Skins: string\n",
    "}\n",
    "\n",
    "type NFTTraits = {\n",
    "    Background: Map<string, int>\n",
    "    Bear: Map<string, int>\n",
    "    Clothes: Map<string, int>\n",
    "    Face: Map<string, int>\n",
    "    Handheld: Map<string, int>\n",
    "    Head: Map<string, int>\n",
    "    Skins: Map<string, int>\n",
    "}"
   ]
  },
  {
   "cell_type": "code",
   "execution_count": 70,
   "metadata": {
    "dotnet_interactive": {
     "language": "fsharp"
    },
    "polyglot_notebook": {
     "kernelName": "fsharp"
    },
    "vscode": {
     "languageId": "polyglot-notebook"
    }
   },
   "outputs": [],
   "source": [
    "let loadNFTs<'T> (filePath: string) : 'T =\n",
    "    let jsonContent = File.ReadAllText(filePath)\n",
    "    JsonSerializer.Deserialize<'T>(jsonContent)"
   ]
  },
  {
   "cell_type": "code",
   "execution_count": 71,
   "metadata": {
    "dotnet_interactive": {
     "language": "fsharp"
    },
    "polyglot_notebook": {
     "kernelName": "fsharp"
    },
    "vscode": {
     "languageId": "polyglot-notebook"
    }
   },
   "outputs": [],
   "source": [
    "let nftRound1NFTS = loadNFTs<NFT list> \"./NFTR1.json\"\n",
    "let nftRound2NFTS = loadNFTs<NFT list> \"./NFTR2.json\"\n",
    "let nftRound1Data = loadNFTs<NFTTraits list> \"./JsonScraper/NFT1Traits.json\"\n",
    "let nftRound2Data = loadNFTs<NFTTraits list> \"./JsonScraper/NFT2Traits.json\"\n",
    "let nftRound1Traits = List.head nftRound1Data\n",
    "let nftRound2Traits = List.head nftRound2Data"
   ]
  },
  {
   "cell_type": "markdown",
   "metadata": {},
   "source": [
    "### 1.2 Fetch Rank Data From CSV"
   ]
  },
  {
   "cell_type": "code",
   "execution_count": 72,
   "metadata": {
    "dotnet_interactive": {
     "language": "fsharp"
    },
    "polyglot_notebook": {
     "kernelName": "fsharp"
    },
    "vscode": {
     "languageId": "polyglot-notebook"
    }
   },
   "outputs": [],
   "source": [
    "let loadNFTRanks (filePath: string) =\n",
    "    File.ReadAllLines(filePath)\n",
    "    |> Array.skip 1\n",
    "    |> Array.map (fun line ->\n",
    "        let parts = line.Split(',')\n",
    "        let subject = parts.[0]\n",
    "        let rank = int parts.[1]\n",
    "        subject, rank\n",
    "    )\n",
    "    |> Map.ofArray"
   ]
  },
  {
   "cell_type": "code",
   "execution_count": 73,
   "metadata": {
    "dotnet_interactive": {
     "language": "fsharp"
    },
    "polyglot_notebook": {
     "kernelName": "fsharp"
    },
    "vscode": {
     "languageId": "polyglot-notebook"
    }
   },
   "outputs": [],
   "source": [
    "let subjectRankData = loadNFTRanks \"NFT_Ranks.csv\""
   ]
  },
  {
   "cell_type": "markdown",
   "metadata": {},
   "source": [
    "## **2. NFT Rank Calculation** \n",
    "To calculate the points for each trait, we first divide the number of occurrences of that trait by the total number of NFTs in the round, which gives us the percentage of NFTs that have that trait. We then subtract this percentage from 100, creating a direct relationship between rarity and points so rarer traits get higher points. Finally, we sum the points for each trait across different attributes (such as Background, Bear, Clothes, etc.) to calculate the final rarity score for each NFT.\n",
    "\n",
    "$\\text{Trait Score} = \\text{round}\\left(100.0 - \\left(\\frac{\\text{Trait Frequency}}{\\text{Total NFTs}}\\right) \\cdot 100.0, 2\\right)$\n",
    "\n",
    "$\\text{Total Rarity Score} = \\sum_{i=1}^{7} T_i$\n",
    "\n",
    "---\n",
    "### 2.1 Assign point values based on trait rarity.   \n",
    "\n",
    "#### **Function**:\n",
    "1. **processNFTTraits**: \n",
    "- Calculates rarity scores for each trait dynamically for a given NFTTraits record and total NFTs in the round.\n",
    "- **Parameters**:<br>\n",
    "    - **`nftTraits`**: NFTTraits – The trait occurrence data for a round.\n",
    "        \n",
    "    - **`totalNfts`**: float – The total number of NFTs in the round.\n",
    "- **Returns**: <br>\n",
    "    - A Map<string, Map<string, float>> of categories, their traits, and the trait's number of occurrences\n",
    "\n",
    "#### **Variables**:\n",
    "**`r1TotalNfts`**: \n",
    "- (float): The total number of NFTs in Round 1 (804).<br>\n",
    "\n",
    "**`r2TotalNfts`**: \n",
    "- (float): The total number of NFTs in Round 2 (2035).<br>\n",
    "\n",
    "**`r1ScoredTraits`**: \n",
    "- (Map<string, Map<string, float>>): A map of scored trait percentages for Round 1 NFTs.<br>\n",
    "\n",
    "**`r2ScoredTraits`**: \n",
    "- (Map<string, Map<string, float>>): A map of scored trait percentages for Round 2 NFTs.<br>\n"
   ]
  },
  {
   "cell_type": "code",
   "execution_count": 74,
   "metadata": {
    "dotnet_interactive": {
     "language": "fsharp"
    },
    "polyglot_notebook": {
     "kernelName": "fsharp"
    },
    "vscode": {
     "languageId": "polyglot-notebook"
    }
   },
   "outputs": [],
   "source": [
    "let r1TotalNfts = 804.0\n",
    "let r2TotalNfts = 2035.0"
   ]
  },
  {
   "cell_type": "code",
   "execution_count": 75,
   "metadata": {
    "dotnet_interactive": {
     "language": "fsharp"
    },
    "polyglot_notebook": {
     "kernelName": "fsharp"
    },
    "vscode": {
     "languageId": "polyglot-notebook"
    }
   },
   "outputs": [],
   "source": [
    "let processNFTTraits (nftTraits: NFTTraits) (totalNfts: float) =\n",
    "    let recordType = typeof<NFTTraits>\n",
    "    FSharp.Reflection.FSharpType.GetRecordFields(recordType)\n",
    "    |> Array.fold (fun acc field ->\n",
    "        let fieldValue = field.GetValue(nftTraits) :?> Map<string, int>\n",
    "        let traitScores = \n",
    "            fieldValue |> Map.map (fun key value ->\n",
    "                Math.Round(100.0 - (float value / float totalNfts) * 100.0, 2)\n",
    "            )\n",
    "        Map.add field.Name traitScores acc\n",
    "    ) Map.empty"
   ]
  },
  {
   "cell_type": "code",
   "execution_count": 76,
   "metadata": {
    "dotnet_interactive": {
     "language": "fsharp"
    },
    "polyglot_notebook": {
     "kernelName": "fsharp"
    },
    "vscode": {
     "languageId": "polyglot-notebook"
    }
   },
   "outputs": [],
   "source": [
    "let r1ScoredTraits = processNFTTraits nftRound1Traits r1TotalNfts\n",
    "let r2ScoredTraits = processNFTTraits nftRound2Traits r2TotalNfts"
   ]
  },
  {
   "cell_type": "markdown",
   "metadata": {},
   "source": [
    "### *Illustrating the Distribution of Trait Scores*: \n",
    "This section visualizes the percentages of trait occurrences alongside their corresponding scores. The createCharts function processes the trait data and generates doughnut charts that display both the raw values and their proportions."
   ]
  },
  {
   "cell_type": "code",
   "execution_count": 78,
   "metadata": {
    "dotnet_interactive": {
     "language": "fsharp"
    },
    "polyglot_notebook": {
     "kernelName": "fsharp"
    },
    "vscode": {
     "languageId": "polyglot-notebook"
    }
   },
   "outputs": [],
   "source": [
    "let createCharts (traitScores: Map<string, Map<string, float>>) = \n",
    "    traitScores\n",
    "    |> Map.fold( fun acc title labelsAndValues ->\n",
    "        let labels,values = \n",
    "            labelsAndValues\n",
    "            |> Map.toList\n",
    "            |> List.unzip\n",
    "\n",
    "        let combinedText = \n",
    "            List.map2 (fun label value -> sprintf \"%s: %.2f\" label value) labels values\n",
    "\n",
    "        let chart = \n",
    "            Chart.Doughnut(values = values, Labels = labels, Hole = 0.5, MultiText = combinedText)\n",
    "            |> Chart.withTitle title\n",
    "            |> Chart.withLayout(\n",
    "                Layout.init(\n",
    "                    Width = 1200,\n",
    "                    Height = 1000\n",
    "                )\n",
    "            )\n",
    "                    \n",
    "        chart :: acc\n",
    "    )[]\n",
    "    |> List.rev\n",
    "\n",
    "let chartRound1 = createCharts r1ScoredTraits \n",
    "let chartRound2 = createCharts r2ScoredTraits"
   ]
  },
  {
   "cell_type": "markdown",
   "metadata": {},
   "source": [
    "### Teddy Bear Club Round 1 Trait Scores"
   ]
  },
  {
   "cell_type": "code",
   "execution_count": null,
   "metadata": {
    "dotnet_interactive": {
     "language": "fsharp"
    },
    "polyglot_notebook": {
     "kernelName": "fsharp"
    },
    "vscode": {
     "languageId": "polyglot-notebook"
    }
   },
   "outputs": [],
   "source": [
    "for chart in chartRound1 do\n",
    "    display(chart |> Chart.withSize(1400,1200))"
   ]
  },
  {
   "cell_type": "markdown",
   "metadata": {},
   "source": [
    "### Teddy Bears Club Round 2 Trait Scores"
   ]
  },
  {
   "cell_type": "code",
   "execution_count": null,
   "metadata": {
    "dotnet_interactive": {
     "language": "fsharp"
    },
    "polyglot_notebook": {
     "kernelName": "fsharp"
    },
    "vscode": {
     "languageId": "polyglot-notebook"
    }
   },
   "outputs": [
    {
     "ename": "Error",
     "evalue": "input.fsx (2,27)-(2,28) parse error Missing qualification after '.'",
     "output_type": "error",
     "traceback": [
      "input.fsx (2,27)-(2,28) parse error Missing qualification after '.'"
     ]
    }
   ],
   "source": [
    "for chart in chartRound2 do\n",
    "    display(chart |> Chart.withSize(1400,1200)) "
   ]
  },
  {
   "cell_type": "markdown",
   "metadata": {},
   "source": [
    "### 2.2 Compute overall rarity ranks for each NFT. \n",
    "Using the information from this step, we also created a CSV mapping NFTs to their ranks for easier access and computation.\n",
    "\n",
    "#### **Function**:\n",
    "1. **computeNFTRank**: \n",
    "- Computes the rarity rank of NFTs based on their traits and scores.\n",
    "- **Parameters**:\n",
    "    - **`nftList`**: (NFT list): A list of NFTs to rank.\n",
    "    - **`nftTraitScores`**: (Map<string, Map<string, float>>): Trait scores computed above.\n",
    "\n",
    "#### **Variables**:\n",
    "**`rankedNFTsRound1`**: \n",
    "- (list): Ranks Round 1 NFTs as (rank, assetName, encodedName, rarityScore).\n",
    "\n",
    "**`rankedNFTsRound2`**: \n",
    "- (list): Ranks Round 2 NFTs with the same structure as above.\n"
   ]
  },
  {
   "cell_type": "code",
   "execution_count": 121,
   "metadata": {
    "dotnet_interactive": {
     "language": "fsharp"
    },
    "polyglot_notebook": {
     "kernelName": "fsharp"
    },
    "vscode": {
     "languageId": "polyglot-notebook"
    }
   },
   "outputs": [],
   "source": [
    "let computeNFTRank (nftList: list<NFT>) nftTraitScores = \n",
    "    nftList\n",
    "    |> List.map (fun nft ->\n",
    "        let rarityScore =  \n",
    "            [\n",
    "                (\"Background\", nft.Background)\n",
    "                (\"Bear\", nft.Bear)\n",
    "                (\"Clothes\", nft.Clothes)\n",
    "                (\"Face\", nft.Face)\n",
    "                (\"Handheld\", nft.Handheld)\n",
    "                (\"Head\", nft.Head)\n",
    "                (\"Skins\", nft.Skins)\n",
    "            ]\n",
    "            |> List.fold (fun acc (attrName, attrValue) ->  \n",
    "                match Map.tryFind attrName nftTraitScores with\n",
    "                | Some traitMap ->  \n",
    "                    acc + (Map.tryFind attrValue traitMap |> Option.defaultValue 0.0)\n",
    "                | None -> acc \n",
    "            ) 0.0 \n",
    "        (nft.assetName, nft.encodedName, rarityScore) \n",
    "    )\n",
    "    |> List.sortBy (fun (_, _, rarityScore) -> -rarityScore)\n",
    "    |> List.mapi (fun index (assetName, encodedName, rarityScore) -> \n",
    "    (index + 1, assetName, encodedName, rarityScore))"
   ]
  },
  {
   "cell_type": "code",
   "execution_count": 122,
   "metadata": {
    "dotnet_interactive": {
     "language": "fsharp"
    },
    "polyglot_notebook": {
     "kernelName": "fsharp"
    },
    "vscode": {
     "languageId": "polyglot-notebook"
    }
   },
   "outputs": [],
   "source": [
    "let rankedNFTsRound1 = computeNFTRank nftRound1NFTS r1ScoredTraits\n",
    "let rankedNFTsRound2 = computeNFTRank nftRound2NFTS r2ScoredTraits"
   ]
  },
  {
   "cell_type": "markdown",
   "metadata": {},
   "source": [
    "## **3. NFT Rewards Calculation** \n",
    "To calculate the Tedy rewards of a user given their owned NFTs, we first identify the number of NFTs they own, from what round they are from, and the rank of their NFTs. Then, we compute the user’s percent share of all sold NFTs based on the number of NFTs they own across all tiers. Using the percent share, we then factor in the remaining pool of available Tedy token rewards to determine the user’s share of Tedy. Next, using the number and rank of the user's owned NFTs, along with their calculated percent share, we compute the total Tedy tokens they are eligible to receive. Finally, the final Tedy reward allocation is adjusted based on the updated market cap of 8,000,000 Tedy tokens.\n",
    "\n",
    "---\n",
    "\n",
    "### **3.1 Count NFT Occurrences by Tier**\n",
    "Determine the total number of NFTs owned in each round and categorize them based on their rarity rank within predefined ranges.\n",
    "\n",
    "#### **Functions**:\n",
    "1. **`categorizeNFTRound1ByRank`**:\n",
    "- Categorizes Round 1 NFTs into predefined rank ranges, updating the counts accordingly.\n",
    "- **Parameters**:\n",
    "  - `nft` (string) - The identifier of the NFT.\n",
    "  - `rank` (int) - The rarity rank of the NFT.\n",
    "  - `nftsCount` (int array) - Array representing counts of NFTs within predefined rank ranges for Round 1.\n",
    "\n",
    "2. **`categorizeNFTRound2ByRank`**:\n",
    "- Similar to `categorizeNFTRound1ByRank` but tailored for Round 2 NFTs with different rank ranges.\n",
    "- **Parameters**:\n",
    "  - `nft` (string): The identifier of the NFT.\n",
    "  - `rank` (int): The rarity rank of the NFT.\n",
    "  - `nftsCount` (int array): Array representing counts of NFTs within predefined rank ranges for Round 2.\n",
    "\n",
    "3. **`countNFTsPerRound`**:\n",
    "- Processes a list of owned NFTs, categorizing them by their rarity rank for both Round 1 and Round 2.\n",
    "- Calls categorizeNFTRound1ByRank or categorizeNFTRound2ByRank\n",
    "- **Parameters**:\n",
    "  - `ownedNFTs` (list<string>): A list of NFTs owned by the user.\n",
    "  - `rankData` (Map<string, int>): A mapping of NFT identifiers to their rarity ranks.\n",
    "- **Returns**:\n",
    "  - A tuple of arrays (`round1NFTsHeldByRank`, `round2NFTsHeldByRank`): each array contains counts of NFTs in the predefined rank ranges for each round.\n",
    "\n",
    "---\n",
    "\n",
    "#### **Variables**:\n",
    " **`round1PolicyId`**:\n",
    "   - (string): the unique policy ID for identifying NFTs from Round 1.\n",
    "\n",
    " **`round2PolicyId`**:\n",
    "   - (string): the unique policy ID for identifying NFTs from Round 2.\n",
    "\n",
    " **`round1NFTsHeldByRank`**: \n",
    "   - (int array): represents counts of NFTs categorized by rank ranges for Round 1.\n",
    "   - **Structure**: `[countRank1; countRank2; countRank3; countRank4; countRank5]`\n",
    "\n",
    " **`round2NFTsHeldByRank`**: array\n",
    "   - (int array): representscounts of NFTs categorized by rank ranges for Round 2.\n",
    "   - **Structure**: `[countRank1; countRank2; countRank3; countRank4; countRank5]`\n"
   ]
  },
  {
   "cell_type": "code",
   "execution_count": 57,
   "metadata": {
    "dotnet_interactive": {
     "language": "fsharp"
    },
    "polyglot_notebook": {
     "kernelName": "fsharp"
    },
    "vscode": {
     "languageId": "polyglot-notebook"
    }
   },
   "outputs": [],
   "source": [
    "let round1PolicyId = \"ab182ed76b669b49ee54a37dee0d0064ad4208a859cc4fdf3f906d87\"\n",
    "let round2PolicyId = \"da3562fad43b7759f679970fb4e0ec07ab5bebe5c703043acda07a3c\""
   ]
  },
  {
   "cell_type": "code",
   "execution_count": null,
   "metadata": {
    "dotnet_interactive": {
     "language": "fsharp"
    },
    "polyglot_notebook": {
     "kernelName": "fsharp"
    },
    "vscode": {
     "languageId": "polyglot-notebook"
    }
   },
   "outputs": [],
   "source": [
    "let categorizeNFTRound1ByRank nft rank (nftsCount: int array)=\n",
    "    printfn \"Calculating rewards for NFT1: %s with rank %d\" nft rank\n",
    "    if rank <= 15 then nftsCount[0] <- nftsCount[0] + 1\n",
    "    elif rank <= 100 then nftsCount[1] <- nftsCount[1]+ 1\n",
    "    elif rank <= 250 then nftsCount[2] <- nftsCount[2] + 1\n",
    "    elif rank <= 500 then nftsCount[3] <- nftsCount[3] + 1\n",
    "    elif rank <= 804 then nftsCount[4] <- nftsCount[4] + 1\n",
    "    else printfn \"Rank %d for NFT %s does not fall within any predefined range\" rank nft    "
   ]
  },
  {
   "cell_type": "code",
   "execution_count": 59,
   "metadata": {
    "dotnet_interactive": {
     "language": "fsharp"
    },
    "polyglot_notebook": {
     "kernelName": "fsharp"
    },
    "vscode": {
     "languageId": "polyglot-notebook"
    }
   },
   "outputs": [],
   "source": [
    "let categorizeNFTRound2ByRank nft rank (nftsCount: int array)=\n",
    "    printfn \"Calculating rewards for NFT2: %s with rank %d\" nft rank\n",
    "    if rank <= 23 then nftsCount[0] <- nftsCount[0] + 1\n",
    "    elif rank <= 221 then nftsCount[1] <- nftsCount[1] + 1\n",
    "    elif rank <= 664 then nftsCount[2] <- nftsCount[2] + 1\n",
    "    elif rank <= 1327 then nftsCount[3] <- nftsCount[3] + 1\n",
    "    elif rank <= 2035 then nftsCount[4] <- nftsCount[4] + 1\n",
    "    else printfn \"Rank %d for NFT %s does not fall within any predefined range\" rank nft"
   ]
  },
  {
   "cell_type": "code",
   "execution_count": 58,
   "metadata": {
    "dotnet_interactive": {
     "language": "fsharp"
    },
    "polyglot_notebook": {
     "kernelName": "fsharp"
    },
    "vscode": {
     "languageId": "polyglot-notebook"
    }
   },
   "outputs": [],
   "source": [
    "let countNFTsPerRound (ownedNFTs: list<string>) (rankData: Map<string, int>) =\n",
    "    let round1NFTsHeldByRank = [|0;0;0;0;0|]\n",
    "    let round2NFTsHeldByRank = [|0;0;0;0;0|]\n",
    "    ownedNFTs\n",
    "    |> List.iter (fun nft ->\n",
    "        match rankData.TryFind nft with\n",
    "        | Some rank ->\n",
    "            if nft.Contains(round1PolicyId) then\n",
    "                categorizeNFTRound1ByRank nft rank round1NFTsHeldByRank\n",
    "            elif nft.Contains(round2PolicyId) then\n",
    "                categorizeNFTRound2ByRank nft rank round2NFTsHeldByRank\n",
    "            else\n",
    "                printfn \"Unknown NFT policyId for %s\" nft \n",
    "        | None ->\n",
    "            printfn \"Rank data not found for NFT: %s\" nft\n",
    "    )\n",
    "    (round1NFTsHeldByRank, round2NFTsHeldByRank)"
   ]
  },
  {
   "cell_type": "markdown",
   "metadata": {},
   "source": [
    "The cell below shows test data, in order to show that we can identify the rank of a given subject."
   ]
  },
  {
   "cell_type": "code",
   "execution_count": null,
   "metadata": {
    "dotnet_interactive": {
     "language": "fsharp"
    },
    "polyglot_notebook": {
     "kernelName": "fsharp"
    },
    "vscode": {
     "languageId": "polyglot-notebook"
    }
   },
   "outputs": [],
   "source": [
    "let ownedNFTs = [\n",
    "                    \"ab182ed76b669b49ee54a37dee0d0064ad4208a859cc4fdf3f906d8754656464794265617273436c7562313738\";\n",
    "                    \"da3562fad43b7759f679970fb4e0ec07ab5bebe5c703043acda07a3c54656464794265617273436c756234373930\"\n",
    "                ]\n",
    "\n",
    "let round1NFTsHeldByRank, round2NFTsHeldByRank = countNFTsPerRound ownedNFTs subjectRankData\n",
    "\n",
    "printfn \"Round 1 Rewards: %A\" round1NFTsHeldByRank\n",
    "printfn \"Round 2 Rewards: %A\" round2NFTsHeldByRank"
   ]
  },
  {
   "cell_type": "markdown",
   "metadata": {},
   "source": [
    "### **3.2 Calculate User's Percent Share of NFTs**\n",
    "Calculate the user’s percentage share of all sold NFTs based on the number of NFTs they own across all tiers. Since Round 1 NFTs had a minting price of 350 ADA, they are given a bonus multiplier of 2.75, which increases their weight in the computations. As a result, the formulas for calculating percent share differ between the two rounds.\n",
    "\n",
    "Where:\n",
    "- Round 1 NFTs Held: The number of NFTs the user owns from Round 1.\n",
    "- Round 2 NFTs Held: The number of NFTs the user owns from Round 2.\n",
    "- Round 1 Bonus: The bonus multiplier for Round 1 NFTs (2.75).\n",
    "- Round 1 NFTs Sold: The total number of Round 1 NFTs sold (804).\n",
    "- Round 2 NFTs Sold: The total number of Round 2 NFTs sold (2035).\n",
    "\n",
    "$\\text{Round 1 Percent Share} = \\frac{\\text{Round 1 NFTs Held} \\times \\text{Round 1 Bonus}}{(\\text{Round 1 NFTs Sold} \\times \\text{Round 1 Bonus} + \\text{Round 2 NFTs Sold}) \\times 100}$\n",
    "\n",
    "$\\text{Round 2 Percent Share} = \\frac{\\text{Round 2 NFTs Held}}{(\\text{Round 1 NFTs Sold} \\times \\text{Round 1 Bonus} + \\text{Round 2 NFTs Sold}) \\times 100}$\n",
    "\n",
    "---\n",
    "\n",
    "#### **Functions**:\n",
    "1. **`calculatePercentShareFromAvailableRewards`**:\n",
    "- Computes the percent share of NFTs owned by the user for both rounds, based on the total NFTs sold and the Round 1 bonus multiplier.\n",
    "- **Parameters**:\n",
    "   - None explicitly passed, but it relies on:\n",
    "      - `round1NFTsHeldByRank` (array) - The counts of NFTs owned by the user for Round 1.\n",
    "      - `round2NFTsHeldByRank` (array) - The counts of NFTs owned by the user for Round 2.\n",
    "      - `round1Bonus` (float) - The bonus multiplier for Round 1 NFTs.\n",
    "      - `round1NFTsSold` (int) - Total number of NFTs sold in Round 1.\n",
    "      - `round2NFTsSold` (int)  Total number of NFTs sold in Round 2.\n",
    "- **Returns**:\n",
    "   - A tuple of the computed percent shares for Round 1 and Round 2:\n",
    "      (round1PercentShare, round2PercentShare)\n",
    "\n",
    "---\n",
    "\n",
    "#### **Variables**:\n",
    "**`round1NFTsHeldByRank`**:\n",
    "   - (int array): represents the counts of NFTs owned by the user for Round 1, categorized by rank ranges.\n",
    "\n",
    "**`round2NFTsHeldByRank`**:\n",
    "   - (int array): represents the counts of NFTs owned by the user for Round 2, categorized by rank ranges.\n",
    "\n",
    "**`round1PercentShare`**:\n",
    "   - (float): The computed percentage share of Round 1 NFTs owned by the user.\n",
    "\n",
    "**`round2PercentShare`**:\n",
    "   - (float): The computed percentage share of Round 2 NFTs owned by the user."
   ]
  },
  {
   "cell_type": "code",
   "execution_count": null,
   "metadata": {
    "dotnet_interactive": {
     "language": "fsharp"
    },
    "polyglot_notebook": {
     "kernelName": "fsharp"
    },
    "vscode": {
     "languageId": "polyglot-notebook"
    }
   },
   "outputs": [],
   "source": [
    "let round1Bonus = 2.75\n",
    "let round1NFTsSold = 804\n",
    "let round2NFTsSold = 2035"
   ]
  },
  {
   "cell_type": "code",
   "execution_count": null,
   "metadata": {
    "dotnet_interactive": {
     "language": "fsharp"
    },
    "polyglot_notebook": {
     "kernelName": "fsharp"
    },
    "vscode": {
     "languageId": "polyglot-notebook"
    }
   },
   "outputs": [],
   "source": [
    "let calculatePercentShareFromAvailableRewards = \n",
    "    let round1NFTsHeld = float (Array.sum round1NFTsHeldByRank)\n",
    "    let round2NFTsHeld = float (Array.sum round2NFTsHeldByRank)\n",
    "    let totalNFTsSold = (float round1NFTsSold * round1Bonus + float round2NFTsSold)\n",
    "\n",
    "    let round1PercentShare = round1NFTsHeld * round1Bonus / totalNFTsSold * 100.0\n",
    "    let round2PercentShare = round2NFTsHeld / totalNFTsSold * 100.0\n",
    "    (round1PercentShare,round2PercentShare)"
   ]
  },
  {
   "cell_type": "code",
   "execution_count": 62,
   "metadata": {
    "dotnet_interactive": {
     "language": "fsharp"
    },
    "polyglot_notebook": {
     "kernelName": "fsharp"
    },
    "vscode": {
     "languageId": "polyglot-notebook"
    }
   },
   "outputs": [],
   "source": [
    "let round1PercentShare, round2PercentShare = calculatePercentShareFromAvailableRewards"
   ]
  },
  {
   "cell_type": "markdown",
   "metadata": {},
   "source": [
    "### **3.3 Adjust Rewards Based on Available Tedy Tokens**\n",
    "Factor in the remaining pool of available Tedy token rewards to determine the user’s adjusted reward share.\n",
    "\n",
    "Where:\n",
    "- $ \\text{TierTokens}_i $: The number of tokens allocated per NFT in tier $\\text{( i )}$\n",
    "- $ \\text{countOfTier}_i $: The number of NFTs in tier $\\text{( i )}$\n",
    "- maxRoundTwoTedyTokens: The total number of Tedy Tokens rewards.\n",
    "\n",
    "$\\text{Distributed Tokens} = \\sum_{i=1}^{5} (\\text{TierTokens}_i \\times \\text{countOfTier}_i)$<br>\n",
    "$\\text{Available Token Rewards} = \\text{maxRoundTwoTedyTokens} - \\text{distributedTokens}$<br>\n",
    "$\\text{Round 1 Tedy Share} = \\text{availableTokenRewards} * \\text{round1PercentShare}$<br>\n",
    "$\\text{Round 2 Tedy Share} = \\text{availableTokenRewards} * \\text{round2PercentShare}$<br>\n",
    "\n",
    "---\n",
    "\n",
    "#### **Functions**:\n",
    "1. **`calculateApproximateTbcRewards`**:\n",
    "   - Calculates the approximate Tedy token rewards for Round 1 and Round 2 based on the user’s percent share and remaining available tokens.\n",
    "   - **Parameters**:\n",
    "     - None explicitly passed, but relies on:\n",
    "       - `availableTokenRewards`: The total tokens available after subtracting distributed tokens.\n",
    "       - `round1PercentShare`: The user’s percent share of Round 1 NFTs.\n",
    "       - `round2PercentShare`: The user’s percent share of Round 2 NFTs.\n",
    "   - **Returns**:\n",
    "     - A tuple of approximate rewards: (`round1TedyShare`, `round2TedyShare`).\n",
    "\n",
    "---\n",
    "\n",
    "#### **Variables**:\n",
    "**`round1Tier1`, `round1Tier2`, `round1Tier3`, `round1Tier4`, `round1Tier5`**:\n",
    "   - Tokens allocated per NFT for each tier in Round 1:\n",
    "     - **round1Tier1**: `30800`\n",
    "     - **round1Tier2**: `19250`\n",
    "     - **round1Tier3**: `13860`\n",
    "     - **round1Tier4**: `12320`\n",
    "     - **round1Tier5**: `11550`\n",
    "\n",
    "**`round2Tier1`, `round2Tier2`, `round2Tier3`, `round2Tier4`, `round2Tier5`**:\n",
    "   - Tokens allocated per NFT for each tier in Round 2:\n",
    "     - **round2Tier1**: `7000`\n",
    "     - **round2Tier2**: `6000`\n",
    "     - **round2Tier3**: `5000`\n",
    "     - **round2Tier4**: `4500`\n",
    "     - **round2Tier5**: `4200`\n",
    "\n",
    "**`countOfTier1`, `countOfTier2`, `countOfTier3`, `countOfTier4`, `countOfTier5`**:\n",
    "   - The number of NFTs held in each tier:\n",
    "     - **countOfTier1**: `23`\n",
    "     - **countOfTier2**: `198`\n",
    "     - **countOfTier3**: `443`\n",
    "     - **countOfTier4**: `663`\n",
    "     - **countOfTier5**: `708`\n",
    "\n",
    "**`maxRoundTwoTedyTokens`**:\n",
    "   - (int): The maximum number of Tedy tokens allocated for Round 2.\n",
    "   - **Value**: `42000000`\n",
    "\n",
    "**`distributedTokens`**:\n",
    "   - (int): The total tokens distributed across all tiers for Round 2\n",
    "\n",
    "**`availableTokenRewards`**:\n",
    "   - (float): The remaining Tedy tokens available after distribution\n",
    "\n",
    "**`round1TedyShare`, `round2TedyShare`**:\n",
    "   - (int): The approximate Tedy token rewards for Round 1 and Round 2\n",
    "\n"
   ]
  },
  {
   "cell_type": "code",
   "execution_count": 63,
   "metadata": {
    "dotnet_interactive": {
     "language": "fsharp"
    },
    "polyglot_notebook": {
     "kernelName": "fsharp"
    },
    "vscode": {
     "languageId": "polyglot-notebook"
    }
   },
   "outputs": [],
   "source": [
    "let round1Tier1 = 30800\n",
    "let round1Tier2 = 19250\n",
    "let round1Tier3 = 13860\n",
    "let round1Tier4 = 12320\n",
    "let round1Tier5 = 11550\n",
    "\n",
    "let round2Tier1 = 7000\n",
    "let round2Tier2 = 6000\n",
    "let round2Tier3 = 5000\n",
    "let round2Tier4 = 4500\n",
    "let round2Tier5 = 4200\n",
    "\n",
    "let countOfTier1 = 23\n",
    "let countOfTier2 = 198\n",
    "let countOfTier3 = 443\n",
    "let countOfTier4 = 663\n",
    "let countOfTier5 = 708\n",
    "\n",
    "let maxRoundTwoTedyTokens = 42000000\n",
    "let distributedTokens = (countOfTier1 * round2Tier1) + (countOfTier2 * round2Tier2) + (countOfTier3 * round2Tier3) + (countOfTier4 * round2Tier4) + (countOfTier5 * round2Tier5)\n",
    "let availableTokenRewards = float (maxRoundTwoTedyTokens - distributedTokens)"
   ]
  },
  {
   "cell_type": "code",
   "execution_count": 64,
   "metadata": {
    "dotnet_interactive": {
     "language": "fsharp"
    },
    "polyglot_notebook": {
     "kernelName": "fsharp"
    },
    "vscode": {
     "languageId": "polyglot-notebook"
    }
   },
   "outputs": [],
   "source": [
    "let calculateApproximateTbcRewards = \n",
    "    let round1Share = round1PercentShare / 100.0\n",
    "    let round2Share = round2PercentShare / 100.0\n",
    "\n",
    "    let round1ApproximateTedyShare = Math.Ceiling(availableTokenRewards * round1Share)\n",
    "    let round2ApproximateTedyShare = Math.Ceiling(availableTokenRewards * round2Share)\n",
    "\n",
    "    ((int)round1ApproximateTedyShare,(int)round2ApproximateTedyShare)"
   ]
  },
  {
   "cell_type": "code",
   "execution_count": 65,
   "metadata": {
    "dotnet_interactive": {
     "language": "fsharp"
    },
    "polyglot_notebook": {
     "kernelName": "fsharp"
    },
    "vscode": {
     "languageId": "polyglot-notebook"
    }
   },
   "outputs": [],
   "source": [
    "let round1TedyShare,round2TedyShare = calculateApproximateTbcRewards"
   ]
  },
  {
   "cell_type": "markdown",
   "metadata": {},
   "source": [
    "### **3.4 Compute Total Tedy Allocation**\n",
    "Use the number and rank of the user's owned NFTs, along with the calculated percent share above, to compute the total Tedy tokens they are eligible to receive.\n",
    "\n",
    "Where:\n",
    "- NFT Rarity Rank: The number of owned NFTs for each rank.\n",
    "- Rank Tedy Value: The Tedy value assigned to the rank.\n",
    "\n",
    "$\\text{Base Tedy} = \\sum_{i=1}^{5} (\\text{NFT Rarity Rank Count}_i \\times \\text{Rank Tedy Value}_i)$<br>\n",
    "\n",
    "$\\text{Round 1 Total Tedy Allocation} = \\text{Base Tedy} + \\text{Round 1 Tedy Share}$\n",
    "\n",
    "$\\text{Round 2 Total Tedy Allocation} = \\text{Base Tedy} + \\text{Round 2 Tedy Share}$\n",
    "\n",
    "---\n",
    "\n",
    "### **3.4 Calculate Total Tedy Tokens**\n",
    "Calculate the total Tedy tokens earned by the user in Round 1 and Round 2, combining tokens from held NFTs across tiers and additional rewards.\n",
    "\n",
    "#### **Functions**:\n",
    "1. **`calculateTedyTokensTotal`**:\n",
    "- Computes the total Tedy tokens earned in Round 1 and Round 2, including tokens from held NFTs in each tier and approximate Tedy shares.\n",
    "- **Parameters**:\n",
    "   - None explicitly passed, but it relies on:\n",
    "      - `round1NFTsHeldByRank`: An array of counts of NFTs held by the user for each tier in Round 1.\n",
    "      - `round2NFTsHeldByRank`: An array of counts of NFTs held by the user for each tier in Round 2.\n",
    "      - `round1TedyShare`: Approximate Tedy rewards for Round 1 based on percent share.\n",
    "      - `round2TedyShare`: Approximate Tedy rewards for Round 2 based on percent share.\n",
    "      - `round1Tier1`, `round1Tier2`, ..., `round2Tier5`: Tokens allocated per NFT for each tier in Round 1 and Round 2.\n",
    "- **Returns**:\n",
    "   - A tuple: (`round1TotalTedyTotal`, `round2TotalTedyTotal`).\n",
    "\n",
    "---\n",
    "\n",
    "#### **Variables**:\n",
    "**`round1NFTsHeldByRank`**:\n",
    "   - array of counts of NFTs held by the user for each tier in Round 1.\n",
    "   - **Structure**: `[countTier1, countTier2, countTier3, countTier4, countTier5]`.\n",
    "\n",
    "**`round2NFTsHeldByRank`**:\n",
    "   - An array of counts of NFTs held by the user for each tier in Round 2.\n",
    "   - **Structure**: `[countTier1, countTier2, countTier3, countTier4, countTier5]`.\n",
    "\n",
    "**`round1TedyShare`**:\n",
    "   - Approximate Tedy rewards for Round 1 based on percent share.\n",
    "   - **Type**: Integer.\n",
    "\n",
    "**`round2TedyShare`**:\n",
    "   - Approximate Tedy rewards for Round 2 based on percent share.\n",
    "   - **Type**: Integer.\n",
    "\n",
    "**`round1Tier1`, `round1Tier2`, `round1Tier3`, `round1Tier4`, `round1Tier5`**:\n",
    "   - Tokens allocated per NFT for each tier in Round 1.\n",
    "\n",
    "**`round2Tier1`, `round2Tier2`, `round2Tier3`, `round2Tier4`, `round2Tier5`**:\n",
    "   - Tokens allocated per NFT for each tier in Round 2.\n",
    "\n",
    "**`round1TotalTedy`**:\n",
    "   - Total Tedy tokens from held NFTs in Round 1, calculated as:\n",
    "\n",
    "**`round2TotalTedy`**:\n",
    "   - Total Tedy tokens from held NFTs in Round 2, calculated as:\n",
    "\n",
    "**`round1TotalTedyTotal`, `round2TotalTedyTotal`**:\n",
    "   - Total Tedy tokens for Round 1 and Round 2, including additional rewards:\n"
   ]
  },
  {
   "cell_type": "code",
   "execution_count": null,
   "metadata": {
    "dotnet_interactive": {
     "language": "fsharp"
    },
    "polyglot_notebook": {
     "kernelName": "fsharp"
    },
    "vscode": {
     "languageId": "polyglot-notebook"
    }
   },
   "outputs": [],
   "source": [
    "let calculateTedyTokensTotal = \n",
    "    let round1TotalTedy = (round1NFTsHeldByRank[0] * round1Tier1) + (round1NFTsHeldByRank[1] * round1Tier2) + (round1NFTsHeldByRank[2] * round1Tier3) + (round1NFTsHeldByRank[3] * round1Tier4) + (round1NFTsHeldByRank[4] * round1Tier5)\n",
    "    let round2TotalTedy = (round2NFTsHeldByRank[0] * round2Tier1) + (round2NFTsHeldByRank[1] * round2Tier2) + (round2NFTsHeldByRank[2] * round2Tier3) + (round2NFTsHeldByRank[3] * round2Tier4) + (round2NFTsHeldByRank[4] * round2Tier5)\n",
    "\n",
    "    let round1TotalTedyTotal = round1TotalTedy + round1TedyShare\n",
    "    let round2TotalTedyTotal = round2TotalTedy + round2TedyShare\n",
    "    (round1TotalTedyTotal,round2TotalTedyTotal)"
   ]
  },
  {
   "cell_type": "code",
   "execution_count": null,
   "metadata": {
    "dotnet_interactive": {
     "language": "fsharp"
    },
    "polyglot_notebook": {
     "kernelName": "fsharp"
    },
    "vscode": {
     "languageId": "polyglot-notebook"
    }
   },
   "outputs": [],
   "source": [
    "let round1ApproximateTotalTedy,round2ApproximateTotalTedy = calculateTedyTokensTotal"
   ]
  },
  {
   "cell_type": "markdown",
   "metadata": {},
   "source": [
    "### **3.5 Adjust Rewards for Market Cap**\n",
    "Adjust the final Tedy reward allocation based on the updated market cap of 8,000,000 to ensure alignment with the revised tokenomics.\n",
    "\n",
    "Where:\n",
    "- NFT Rarity Rank: The number of owned NFTs for each rank.\n",
    "- Rank Tedy Value: The Tedy value assigned to the rank.\n",
    "\n",
    "$\\text{Final Round Reward} = (\\text{Total Tedy Allocation} * \\text{Current Marketcap}) / \\text{Previous Market Cap}$\n",
    "\n",
    "---\n",
    "\n",
    "Adjust the total Tedy rewards for Round 1 and Round 2 based on the change in market capitalization. The adjustment ensures that rewards are proportional to the current market cap compared to a past market cap.\n",
    "\n",
    "#### **Functions**:\n",
    "1. **`marketcapAdjustment`**:\n",
    "- Adjusts the reward amount based on the ratio of the current market cap to the past market cap.\n",
    "- **Parameters**:\n",
    "   - `rewards` (float): The original reward amount to be adjusted.\n",
    "- **Returns**:\n",
    "   - (int): The adjusted reward amount.\n",
    "\n",
    "---\n",
    "\n",
    "#### **Variables**:\n",
    "**`pastMarketCap`**:\n",
    "   - The previous market cap of the token, used as a reference for adjustments.\n",
    "\n",
    "**`currentMarketCap`**:\n",
    "   - The current market cap of the token, used to scale rewards.\n",
    "\n",
    "**`round1ApproximateTotalTedy`**:\n",
    "   - The total Tedy tokens for Round 1 before market cap adjustment.\n",
    "\n",
    "**`round2ApproximateTotalTedy`**:\n",
    "   - The total Tedy tokens for Round 2 before market cap adjustment\n",
    "\n",
    "**`totalTedyRound1`**:\n",
    "   - The adjusted total Tedy tokens for Round 1\n",
    "\n",
    "**`totalTedyRound2`**:\n",
    "   - The adjusted total Tedy tokens for Round 2\n",
    "\n",
    "**`totalTedyReward`**:\n",
    "   - The combined adjusted Tedy tokens for both rounds\n"
   ]
  },
  {
   "cell_type": "code",
   "execution_count": null,
   "metadata": {
    "dotnet_interactive": {
     "language": "fsharp"
    },
    "polyglot_notebook": {
     "kernelName": "fsharp"
    },
    "vscode": {
     "languageId": "polyglot-notebook"
    }
   },
   "outputs": [
    {
     "name": "stdout",
     "output_type": "stream",
     "text": [
      "4147\n",
      "1092\n",
      "5239\n"
     ]
    }
   ],
   "source": [
    "let pastMarketCap = 100000000.0\n",
    "let currentMarketCap = 8000000.0\n",
    "let marketcapAdjustment (rewards: float) = \n",
    "    let finalRoundReward = (rewards*currentMarketCap)/pastMarketCap\n",
    "    Math.Ceiling(finalRoundReward)\n",
    "\n",
    "let totalTedyRound1 = int(marketcapAdjustment round1ApproximateTotalTedy)\n",
    "let totalTedyRound2 = int(marketcapAdjustment round2ApproximateTotalTedy)\n",
    "let totalTedyReward = totalTedyRound1 + totalTedyRound2\n"
   ]
  },
  {
   "cell_type": "code",
   "execution_count": null,
   "metadata": {
    "dotnet_interactive": {
     "language": "fsharp"
    },
    "polyglot_notebook": {
     "kernelName": "fsharp"
    },
    "vscode": {
     "languageId": "polyglot-notebook"
    }
   },
   "outputs": [],
   "source": [
    "printfn \"%d\" totalTedyRound1\n",
    "printfn \"%d\" totalTedyRound2\n",
    "printfn \"%d\" totalTedyReward"
   ]
  }
 ],
 "metadata": {
  "kernelspec": {
   "display_name": ".NET (C#)",
   "language": "C#",
   "name": ".net-csharp"
  },
  "language_info": {
   "name": "csharp"
  },
  "polyglot_notebook": {
   "kernelInfo": {
    "defaultKernelName": "csharp",
    "items": [
     {
      "aliases": [],
      "name": "csharp"
     }
    ]
   }
  }
 },
 "nbformat": 4,
 "nbformat_minor": 2
}
