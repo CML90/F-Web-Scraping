{
 "cells": [
  {
   "cell_type": "markdown",
   "metadata": {},
   "source": [
    "# **Swyp Teddy Bear Club NFT Rating and Rewards Calculation**\n",
    "\n",
    "## **1. Overview**\n",
    "\n",
    "### **1.1 Purpose**\n",
    "This document outlines the process for calculating the rankings and rewards for the Teddy Bear Club NFTs across Round 1 and Round 2. Since the ranking and reward structures differ between the two rounds, calculations are performed separately for each round and then combined to determine the total rewards, where applicable.\n",
    "\n",
    "### **1.2 NFT Information**\n",
    "Round 1:<br>\n",
    "   - Policy Id: ab182ed76b669b49ee54a37dee0d0064ad4208a859cc4fdf3f906d87 <br>\n",
    "   - Total NFTs: 804<br>\n",
    "   - Tier System:<br>\n",
    "      - Tier 1 - Rarity 1 - 15 : 28,000 TEDY\n",
    "      - Tier 2 - Rarity 16 - 100 : 17,500 TEDY\n",
    "      - Tier 3 - Rarity 101 - 250 : 12,600 TEDY\n",
    "      - Tier 4 - Rarity 251 - 500 : 11,200 TEDY\n",
    "      - Tier 5 - Rarity 501 - 804 : 10,500 TEDY\n",
    "      \n",
    "\n",
    "Round 2:<br>\n",
    "   - Policy Id: da3562fad43b7759f679970fb4e0ec07ab5bebe5c703043acda07a3c<br>\n",
    "   - Total NFTs: 2,035<br>\n",
    "   - Tier System:<br>\n",
    "      - Tier 1 - Rarity 1 - 23 : 7,000 TEDY\n",
    "      - Tier 2 - Rarity 24 - 221 : 6,000 TEDY\n",
    "      - Tier 3 - Rarity 222 - 664 : 5,000 TEDY\n",
    "      - Tier 4 - Rarity 665 - 1,327 : 4,500 TEDY\n",
    "      - Tier 5 - Rarity 1,328 - 2,035 : 4,200 TEDY\n",
    "\n",
    "---\n",
    "\n",
    "### **1.3 Workflow Summary**\n",
    "The workflow is divided into the following steps:\n",
    "\n",
    "1. **Fetch Data**  \n",
    "   - Load NFT data from JSON files.\n",
    "\n",
    "2. **NFT Rank Calculation**  \n",
    "   2.1 Assign point values based on trait rarity.  \n",
    "   2.2 Compute overall rarity ranks for each NFT.\n",
    "\n",
    "3. **NFT Rewards Calculation**  \n",
    "   - Calculate rewards for each NFT based on its rank and the round-specific reward structure.\n",
    "\n",
    "---\n",
    "\n",
    "### **1.4 Necessary Open Statements**\n"
   ]
  },
  {
   "cell_type": "code",
   "execution_count": 1,
   "metadata": {
    "dotnet_interactive": {
     "language": "fsharp"
    },
    "polyglot_notebook": {
     "kernelName": "fsharp"
    },
    "vscode": {
     "languageId": "polyglot-notebook"
    }
   },
   "outputs": [],
   "source": [
    "open System.Text.Json\n",
    "open FSharp.Reflection"
   ]
  },
  {
   "cell_type": "markdown",
   "metadata": {},
   "source": [
    "# **2. Workflow**"
   ]
  },
  {
   "cell_type": "markdown",
   "metadata": {},
   "source": [
    "## 1. Fetch Data\n",
    "The metadata for the NFTs was scraped from the web and stored in JSON files. In this section, we will parse the JSON data to extract information about the NFTs and the occurrence of their traits. This data will serve as the foundation for calculating rankings and determining rewards in the subsequent sections.\n",
    "\n",
    "---\n",
    "\n",
    "**Types**:\n",
    "The NFT and NFTTraits types are partial representations of the data, as only the fields relevant to ranking and reward calculations have been included.\n",
    "\n",
    "- **NFT**: Represents an individual NFT, including its metadata and traits.\n",
    "\n",
    "- **NFTTraits**: Captures occurrence counts of trait values across NFTs.\n",
    "\n",
    "**Function**:\n",
    "- **loadNFTs<'T>**: Loads and deserializes JSON data into a specified type:\n",
    "    - Parameters: \n",
    "        - filePath (string) – the path to the JSON file.\n",
    "    - Returns: 'T \n",
    "\n",
    "**Variables**:\n",
    "- **nftRound1NFTS**: NFT list – NFTs from Round 1\n",
    "- **nftRound2NFTS**: NFT list – NFTs from Round 2\n",
    "- **nftRound1Traits**: NFTTraits – Trait counts for Round 1\n",
    "- **nftRound2Traits**: NFTTraits – Trait counts for Round 2\n"
   ]
  },
  {
   "cell_type": "code",
   "execution_count": 3,
   "metadata": {
    "dotnet_interactive": {
     "language": "fsharp"
    },
    "polyglot_notebook": {
     "kernelName": "fsharp"
    },
    "vscode": {
     "languageId": "polyglot-notebook"
    }
   },
   "outputs": [],
   "source": [
    "type NFT = {\n",
    "    assetName: string\n",
    "    encodedName: string\n",
    "    Background: string\n",
    "    Bear: string\n",
    "    Clothes: string\n",
    "    Face: string\n",
    "    Handheld: string\n",
    "    Head: string\n",
    "    Skins: string\n",
    "}\n",
    "\n",
    "type NFTTraits = {\n",
    "    Background: Map<string, int>\n",
    "    Bear: Map<string, int>\n",
    "    Clothes: Map<string, int>\n",
    "    Face: Map<string, int>\n",
    "    Handheld: Map<string, int>\n",
    "    Head: Map<string, int>\n",
    "    Skins: Map<string, int>\n",
    "}"
   ]
  },
  {
   "cell_type": "code",
   "execution_count": 4,
   "metadata": {
    "dotnet_interactive": {
     "language": "fsharp"
    },
    "polyglot_notebook": {
     "kernelName": "fsharp"
    },
    "vscode": {
     "languageId": "polyglot-notebook"
    }
   },
   "outputs": [],
   "source": [
    "let loadNFTs<'T> (filePath: string) : 'T =\n",
    "    let jsonContent = File.ReadAllText(filePath)\n",
    "    JsonSerializer.Deserialize<'T>(jsonContent)"
   ]
  },
  {
   "cell_type": "code",
   "execution_count": 16,
   "metadata": {
    "dotnet_interactive": {
     "language": "fsharp"
    },
    "polyglot_notebook": {
     "kernelName": "fsharp"
    },
    "vscode": {
     "languageId": "polyglot-notebook"
    }
   },
   "outputs": [],
   "source": [
    "let nftRound1NFTS = loadNFTs<NFT list> \"./NFTR1.json\"\n",
    "let nftRound2NFTS = loadNFTs<NFT list> \"./NFTR2.json\"\n",
    "let nftRound1Data = loadNFTs<NFTTraits list> \"./JsonScraper/NFT1Traits.json\"\n",
    "let nftRound2Data = loadNFTs<NFTTraits list> \"./JsonScraper/NFT2Traits.json\"\n",
    "let nftRound1Traits = List.head nftRound1Data\n",
    "let nftRound2Traits = List.head nftRound2Data"
   ]
  },
  {
   "cell_type": "markdown",
   "metadata": {},
   "source": [
    "## **2. NFT Rank Calculation** \n",
    "To calculate the points for each trait, we first divide the number of occurrences of that trait by the total number of NFTs in the round, which gives us the percentage of NFTs that have that trait. We then subtract this percentage from 100, creating a direct relationship between rarity and points so rarer traits get higher points. Finally, we sum the points for each trait across different attributes (such as Background, Bear, Clothes, etc.) to calculate the final rarity score for each NFT.\n",
    "\n",
    "$\\text{Trait Score} = \\text{round}\\left(100.0 - \\left(\\frac{\\text{value}}{\\text{totalNfts}}\\right) \\cdot 100.0, 2\\right)$\n",
    "\n",
    "$\\text{Total Rarity Score} = \\sum_{i=1}^{7} T_i$\n",
    "\n",
    "---\n",
    "### 2.1 Assign point values based on trait rarity.   \n",
    "\n",
    "**Function**:\n",
    "- *processNFTTraits*: Calculates rarity scores for each trait dynamically for a given NFTTraits record and total NFTs in the round.\n",
    "    - *Parameters*:\n",
    "        *nftTraits*: NFTTraits – The trait occurrence data for a round.\n",
    "    - *totalNfts*: float – The total number of NFTs in the round.\n",
    "    - Returns: Map<string, Map<string, float>>\n",
    "\n",
    "**Variables**:\n",
    "- *r1TotalNfts*: float – The total number of NFTs in Round 1 (804).\n",
    "- *r2TotalNfts*: float – The total number of NFTs in Round 2 (2035).\n",
    "- *r1ScoredTraits*: Map<string, Map<string, float>> – A map of scored trait percentages for Round 1 NFTs.\n",
    "- *r2ScoredTraits*: Map<string, Map<string, float>> – A map of scored trait percentages for Round 2 NFTs.\n"
   ]
  },
  {
   "cell_type": "code",
   "execution_count": 6,
   "metadata": {
    "dotnet_interactive": {
     "language": "fsharp"
    },
    "polyglot_notebook": {
     "kernelName": "fsharp"
    },
    "vscode": {
     "languageId": "polyglot-notebook"
    }
   },
   "outputs": [],
   "source": [
    "let r1TotalNfts = 804.0\n",
    "let r2TotalNfts = 2035.0"
   ]
  },
  {
   "cell_type": "code",
   "execution_count": null,
   "metadata": {
    "dotnet_interactive": {
     "language": "fsharp"
    },
    "polyglot_notebook": {
     "kernelName": "fsharp"
    },
    "vscode": {
     "languageId": "polyglot-notebook"
    }
   },
   "outputs": [],
   "source": [
    "let processNFTTraits (nftTraits: NFTTraits) (totalNfts: float) =\n",
    "    let recordType = typeof<NFTTraits>\n",
    "    FSharp.Reflection.FSharpType.GetRecordFields(recordType)\n",
    "    |> Array.fold (fun acc field ->\n",
    "        let fieldValue = field.GetValue(nftTraits) :?> Map<string, int>\n",
    "        let traitScores = \n",
    "            fieldValue |> Map.map (fun key value ->\n",
    "                Math.Round(100.0 - (float value / float totalNfts) * 100.0, 2)\n",
    "            )\n",
    "        Map.add field.Name traitScores acc\n",
    "    ) Map.empty"
   ]
  },
  {
   "cell_type": "code",
   "execution_count": 17,
   "metadata": {
    "dotnet_interactive": {
     "language": "fsharp"
    },
    "polyglot_notebook": {
     "kernelName": "fsharp"
    },
    "vscode": {
     "languageId": "polyglot-notebook"
    }
   },
   "outputs": [],
   "source": [
    "let r1ScoredTraits = processNFTTraits nftRound1Traits r1TotalNfts\n",
    "let r2ScoredTraits = processNFTTraits nftRound2Traits r2TotalNfts"
   ]
  },
  {
   "cell_type": "markdown",
   "metadata": {},
   "source": []
  },
  {
   "cell_type": "markdown",
   "metadata": {},
   "source": [
    "### *Trait Scores*:"
   ]
  },
  {
   "cell_type": "code",
   "execution_count": null,
   "metadata": {
    "vscode": {
     "languageId": "polyglot-notebook"
    }
   },
   "outputs": [],
   "source": []
  },
  {
   "cell_type": "markdown",
   "metadata": {},
   "source": [
    "### 2.2 Compute overall rairty ranks for each NFT. \n",
    "\n",
    "**Function**:\n",
    "- *computeNFTRank*: Computes the rarity rank of NFTs based on their traits and scores.\n",
    "    - *Parameters*:\n",
    "        *nftList*: NFT list – A list of NFTs to rank.\n",
    "        *nftTraitScores*: Map<string, Map<string, float>> – Trait scores computed above.\n",
    "\n",
    "**Variables**:\n",
    "- *rankedNFTsRound1*: Ranked list of Round 1 NFTs as (rank, assetName, encodedName, rarityScore).\n",
    "- *rankedNFTsRound2*: Ranked list of Round 2 NFTs with the same structure as above.\n"
   ]
  },
  {
   "cell_type": "code",
   "execution_count": null,
   "metadata": {
    "dotnet_interactive": {
     "language": "fsharp"
    },
    "polyglot_notebook": {
     "kernelName": "fsharp"
    },
    "vscode": {
     "languageId": "polyglot-notebook"
    }
   },
   "outputs": [],
   "source": [
    "let computeNFTRank (nftList: list<NFT>) nftTraitScores = \n",
    "    nftList\n",
    "    |> List.map (fun nft ->\n",
    "        let rarityScore =  \n",
    "            [\n",
    "                (\"Background\", nft.Background)\n",
    "                (\"Bear\", nft.Bear)\n",
    "                (\"Clothes\", nft.Clothes)\n",
    "                (\"Face\", nft.Face)\n",
    "                (\"Handheld\", nft.Handheld)\n",
    "                (\"Head\", nft.Head)\n",
    "                (\"Skins\", nft.Skins)\n",
    "            ]\n",
    "            |> List.fold (fun acc (attrName, attrValue) ->  \n",
    "                match Map.tryFind attrName nftTraitScores with\n",
    "                | Some traitMap ->  \n",
    "                    acc + (Map.tryFind attrValue traitMap |> Option.defaultValue 0.0)\n",
    "                | None -> acc \n",
    "            ) 0.0 \n",
    "        (nft.assetName, nft.encodedName, rarityScore) \n",
    "    )\n",
    "    |> List.sortBy (fun (_, _, rarityScore) -> -rarityScore)\n",
    "    |> List.mapi (fun index (assetName, encodedName, rarityScore) -> \n",
    "    (index + 1, assetName, encodedName, rarityScore))"
   ]
  },
  {
   "cell_type": "code",
   "execution_count": 20,
   "metadata": {
    "dotnet_interactive": {
     "language": "fsharp"
    },
    "polyglot_notebook": {
     "kernelName": "fsharp"
    },
    "vscode": {
     "languageId": "polyglot-notebook"
    }
   },
   "outputs": [],
   "source": [
    "let rankedNFTsRound1 = computeNFTRank nftRound1NFTS r1ScoredTraits\n",
    "let rankedNFTsRound2 = computeNFTRank nftRound2NFTS r2ScoredTraits"
   ]
  }
 ],
 "metadata": {
  "kernelspec": {
   "display_name": ".NET (C#)",
   "language": "C#",
   "name": ".net-csharp"
  },
  "language_info": {
   "name": "csharp"
  },
  "polyglot_notebook": {
   "kernelInfo": {
    "defaultKernelName": "csharp",
    "items": [
     {
      "aliases": [],
      "name": "csharp"
     }
    ]
   }
  }
 },
 "nbformat": 4,
 "nbformat_minor": 2
}
